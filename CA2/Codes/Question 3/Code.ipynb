{
 "cells": [
  {
   "cell_type": "code",
   "execution_count": null,
   "metadata": {
    "id": "mMiX8l8l65ww"
   },
   "outputs": [],
   "source": [
    "import string\n",
    "import random\n",
    "from nltk import ngrams\n",
    "import collections\n",
    "import re\n",
    "from heapq import heappop, heappush, nlargest\n",
    "\n",
    "POPULATION_SIZE = 100\n",
    "MATING_POOL_SIZE = 25\n",
    "GENES_COUNT = 26\n",
    "N_GRAMS = 2\n",
    "CROSSOVER_PROBABILITY = 0.6\n",
    "MUTATION_RATE = 0.1\n",
    "STABILITY_INTERVALS = 200\n",
    "#stability Interval is a value that indicates how many more times should the program continue to search for a better answer if the best fitness has not changed."
   ]
  },
  {
   "cell_type": "markdown",
   "metadata": {
    "id": "ru1jWtdb79b6"
   },
   "source": [
    "#### Each Individual has chromosome and fitness function"
   ]
  },
  {
   "cell_type": "code",
   "execution_count": null,
   "metadata": {
    "id": "_Gw0ZsKX65wz"
   },
   "outputs": [],
   "source": [
    "class Individual:\n",
    "    def __init__(self, chromosome, fitness):\n",
    "        self.chromosome = chromosome\n",
    "        self.fitness = fitness\n",
    "    def __lt__(self, other):\n",
    "        return self.fitness <= other.fitness"
   ]
  },
  {
   "cell_type": "markdown",
   "metadata": {
    "id": "ZK2Xvzzt8GiZ"
   },
   "source": [
    "#### Using n-grams for better resuts"
   ]
  },
  {
   "cell_type": "code",
   "execution_count": null,
   "metadata": {
    "id": "d-YAMk9m65w0"
   },
   "outputs": [],
   "source": [
    "def get_ngrams(text, n):\n",
    "    grams = ngrams(text, n)\n",
    "    allgrams = []\n",
    "    for chars in grams:\n",
    "        gram = \"\"\n",
    "        for i in chars:\n",
    "            gram += i\n",
    "        allgrams.append(gram)\n",
    "    return allgrams"
   ]
  },
  {
   "cell_type": "code",
   "execution_count": null,
   "metadata": {
    "id": "Ahh3ACF565w0"
   },
   "outputs": [],
   "source": [
    "def count_ngrams(text, alphabet):\n",
    "    counter = collections.Counter()\n",
    "    words = re.sub('[^{}]'.format(alphabet), ' ', text).split()\n",
    "\n",
    "    for word in words:\n",
    "        for gram in get_ngrams(word, N_GRAMS):\n",
    "            counter[gram] += 1\n",
    "\n",
    "    return counter"
   ]
  },
  {
   "cell_type": "code",
   "execution_count": null,
   "metadata": {
    "id": "5xwVOxj-65w0"
   },
   "outputs": [],
   "source": [
    "alphabet = string.ascii_lowercase\n",
    "T = count_ngrams(open('dictionary.csv').read(), alphabet) "
   ]
  },
  {
   "cell_type": "code",
   "execution_count": null,
   "metadata": {
    "id": "fRcQd1Fz65w1"
   },
   "outputs": [],
   "source": [
    "def create_chromosome():\n",
    "    chromosome = {}\n",
    "    genes_count = 0\n",
    "    while genes_count != GENES_COUNT:\n",
    "        letter = random.choice(alphabet)\n",
    "        if letter not in chromosome:\n",
    "            chromosome[letter] = alphabet[genes_count]\n",
    "            genes_count += 1\n",
    "        else:\n",
    "            continue\n",
    "        \n",
    "    return chromosome"
   ]
  },
  {
   "cell_type": "markdown",
   "metadata": {
    "id": "tZ3kahJM9gI-"
   },
   "source": [
    "#### Creating base polulation by making individuals and sorting them by their fitness"
   ]
  },
  {
   "cell_type": "code",
   "execution_count": null,
   "metadata": {
    "id": "p7Cs2PbA65w1"
   },
   "outputs": [],
   "source": [
    "def create_base_population(size):\n",
    "    population = []\n",
    "    for i in range(size):\n",
    "        chromosome = create_chromosome()\n",
    "        individual = Individual(chromosome, 0)\n",
    "        heappush(population, individual)\n",
    "    return population"
   ]
  },
  {
   "cell_type": "markdown",
   "metadata": {
    "id": "Y8UmwaE290AE"
   },
   "source": [
    "#### Fitness Function - $\\sum_yF_P(x,y)×log2(F_T(y))$"
   ]
  },
  {
   "cell_type": "code",
   "execution_count": null,
   "metadata": {
    "id": "R9wrxGFe65w1"
   },
   "outputs": [],
   "source": [
    "def evaluate_fitness(chromosome, encoded_text):\n",
    "    fitness = 0\n",
    "    decoded = decrypt(encoded_text, chromosome)\n",
    "    N_x = count_ngrams(decoded, alphabet)\n",
    "    for y in T:\n",
    "        Ft = T[y]\n",
    "        if y in N_x:\n",
    "            Fp = N_x[y]\n",
    "            fitness += Fp * Ft\n",
    "        else:\n",
    "            continue\n",
    "    \n",
    "    return fitness"
   ]
  },
  {
   "cell_type": "markdown",
   "metadata": {
    "id": "alWxG1xt9bCT"
   },
   "source": [
    "#### Crossover"
   ]
  },
  {
   "cell_type": "code",
   "execution_count": null,
   "metadata": {
    "id": "PH9WkgDx65w2"
   },
   "outputs": [],
   "source": [
    "def crossover(mother_genes, father_genes):\n",
    "    chromosome_new = dict()\n",
    "    child_genes = []\n",
    "    child_genes.extend(mother_genes)\n",
    "    \n",
    "    for i in range(int(GENES_COUNT/2)):\n",
    "        char = random.choice(alphabet)\n",
    "        index1 = father_genes.index(char)\n",
    "        temp = child_genes[index1] \n",
    "        index2 = child_genes.index(char) \n",
    "        child_genes[index1], child_genes[index2] = char, temp        \n",
    "           \n",
    "    for i in range(GENES_COUNT): chromosome_new[child_genes[i]] = alphabet[i]\n",
    "\n",
    "    return chromosome_new"
   ]
  },
  {
   "cell_type": "markdown",
   "metadata": {
    "id": "p8VTRYh19Z0H"
   },
   "source": [
    "#### Mutation"
   ]
  },
  {
   "cell_type": "code",
   "execution_count": null,
   "metadata": {
    "id": "EGnItcLI65w2"
   },
   "outputs": [],
   "source": [
    "def mutate(chromosome_keys):\n",
    "    \n",
    "    key1, key2 = random.choice(chromosome_keys), random.choice(chromosome_keys)\n",
    "    chromosome_keys[chromosome_keys.index(key1)], chromosome_keys[chromosome_keys.index(key2)] = key2, key1\n",
    "    chromosome_new = dict()\n",
    "    \n",
    "    for i in range(GENES_COUNT): chromosome_new[chromosome_keys[i]] = alphabet[i]\n",
    "\n",
    "    return chromosome_new"
   ]
  },
  {
   "cell_type": "markdown",
   "metadata": {
    "id": "o37vNkOA9x1j"
   },
   "source": [
    "#### Genetic Algorithm"
   ]
  },
  {
   "cell_type": "code",
   "execution_count": null,
   "metadata": {
    "id": "QHuUUPaP65w2"
   },
   "outputs": [],
   "source": [
    "def genetic_algorithm():\n",
    "    population = create_base_population(POPULATION_SIZE)\n",
    "    best_fitness, iterations, last_fitness, last_fitness_increase = 0, 0, 0, 0\n",
    "    \n",
    "    for individual in population:\n",
    "        individual.fitness = evaluate_fitness(individual.chromosome, coded_words)\n",
    "        if individual.fitness > best_fitness:\n",
    "            best_fitness = individual.fitness\n",
    "            best_chromosome = individual.chromosome\n",
    "\n",
    "    while last_fitness_increase < STABILITY_INTERVALS: \n",
    "        population = nlargest(int(MATING_POOL_SIZE), population)\n",
    "        \n",
    "        while len(population) < POPULATION_SIZE: \n",
    "            potential_father = random.choice(population)\n",
    "            potential_mother = random.choice(population)\n",
    "            if random.choices([1,0], weights = [CROSSOVER_PROBABILITY, 1 - CROSSOVER_PROBABILITY]):\n",
    "                mother_genes, father_genes = [], []\n",
    "                mother_genes.extend(list(potential_mother.chromosome.keys()))\n",
    "                father_genes.extend(list(potential_father.chromosome.keys()))\n",
    "                child_chromosome = crossover(mother_genes, father_genes)\n",
    "                child = Individual(child_chromosome, 0)\n",
    "                \n",
    "                if random.choices([1,0], weights = [CROSSOVER_PROBABILITY, 1 - CROSSOVER_PROBABILITY]):\n",
    "                    child.chromosome = mutate(list((child.chromosome).keys()))\n",
    "\n",
    "                child.fitness = evaluate_fitness(child.chromosome, coded_words)\n",
    "                if child.fitness > best_fitness:\n",
    "                    best_fitness = child.fitness\n",
    "                    best_chromosome = child.chromosome\n",
    "\n",
    "                heappush(population, child)\n",
    "            \n",
    "        if best_fitness > last_fitness:\n",
    "            last_fitness_increase = 0\n",
    "            last_fitness = best_fitness\n",
    "        else:\n",
    "            last_fitness_increase += 1\n",
    "        \n",
    "        iterations += 1\n",
    "    \n",
    "    print('Best solution found after {} iterations:'.format(iterations))\n",
    "    return best_chromosome"
   ]
  },
  {
   "cell_type": "code",
   "execution_count": null,
   "metadata": {
    "id": "m4z1lXP565w2"
   },
   "outputs": [],
   "source": [
    "def decrypt(encoded, key):\n",
    "    decoded = ''\n",
    "    for char in encoded:\n",
    "        if char.islower():\n",
    "            decoded += key[char]\n",
    "        elif key.get(char.lower()) != None:\n",
    "                decoded += key.get(char.lower()).upper()\n",
    "        else:\n",
    "            decoded += char\n",
    "    return decoded"
   ]
  },
  {
   "cell_type": "markdown",
   "metadata": {
    "id": "62Sb8a3N9NPm"
   },
   "source": [
    "#### Decoding coded words by Genetic algorithm"
   ]
  },
  {
   "cell_type": "code",
   "execution_count": null,
   "metadata": {
    "id": "5JBaiGj065w3"
   },
   "outputs": [],
   "source": [
    "def decode(encoded_text):\n",
    "    decoded_text = \"\"\n",
    "    key = genetic_algorithm()\n",
    "    decoded_text = decrypt(encoded_text, key)\n",
    "    return decoded_text, key"
   ]
  },
  {
   "cell_type": "markdown",
   "metadata": {
    "id": "NgQ2zDbD9B42"
   },
   "source": [
    "#### Dictionary acts as the \"training\" and coded words as the \"testing\" texts."
   ]
  },
  {
   "cell_type": "code",
   "execution_count": null,
   "metadata": {
    "id": "SbufTO0r65w3",
    "outputId": "ec87a3d7-8de1-42ee-8047-be9117d3853e",
    "tags": []
   },
   "outputs": [
    {
     "name": "stdout",
     "output_type": "stream",
     "text": [
      "Best solution found after 300 iterations:\n",
      "oerh\n",
      "shackleford\n",
      "conman\n",
      "aslin\n",
      "pyroelectric\n",
      "dreamdirect\n",
      "equium\n",
      "tonka\n",
      "nrca\n",
      "rutten\n",
      "vssd\n",
      "salicaceae\n",
      "hypnotics\n",
      "hackystat\n",
      "psds\n",
      "caskey\n",
      "etds\n",
      "tastysex\n",
      "highprice\n",
      "mindwiz\n",
      "birdied\n",
      "poultices\n",
      "buscando\n",
      "tveeten\n",
      "supernumerary\n",
      "werhuur\n",
      "phentirmine\n",
      "capisuite\n",
      "datacoms\n",
      "irelan\n",
      "vebact\n",
      "canard\n",
      "lwalues\n",
      "illustrates\n",
      "titman\n",
      "magistrates\n",
      "cosmopolitans\n",
      "fcsi\n",
      "gapi\n",
      "gigliotti\n",
      "halava\n",
      "ehler\n",
      "boscoe\n",
      "chiton\n",
      "qaradavi\n",
      "servery\n",
      "pirs\n",
      "suffice\n",
      "ccache\n",
      "sridharan\n",
      "ligs\n",
      "beckstead\n",
      "dawanzati\n",
      "prominent\n",
      "asked\n",
      "banished\n",
      "toshio\n",
      "gamete\n",
      "junji\n",
      "beque\n",
      "bigvigs\n",
      "nylonsex\n",
      "propagated\n",
      "emcor\n",
      "pelee\n",
      "quenya\n",
      "fazer\n",
      "tantovel\n",
      "indigenes\n",
      "retransmissions\n",
      "berhampur\n",
      "nyou\n",
      "yukata\n",
      "xenus\n",
      "polishes\n",
      "grseting\n",
      "coronado\n",
      "quizilla\n",
      "matrons\n",
      "foxtons\n",
      "pissarides\n",
      "chiclayo\n",
      "saracens\n",
      "citesummary\n",
      "lwns\n",
      "wscan\n",
      "agetty\n",
      "yanakie\n",
      "gaobot\n",
      "concretion\n",
      "humps\n",
      "keepinline\n",
      "nhic\n",
      "shartleswille\n",
      "upvey\n",
      "gundersen\n",
      "among\n",
      "guto\n",
      "unixes\n",
      "mlis\n",
      "mbeat\n",
      "{'z': 'a', 'y': 'b', 'v': 'c', 'k': 'd', 'o': 'e', 's': 'f', 'b': 'g', 'd': 'h', 'i': 'i', 'x': 'j', 'p': 'k', 'g': 'l', 'h': 'm', 't': 'n', 'w': 'o', 'c': 'p', 'a': 'q', 'r': 'r', 'm': 's', 'j': 't', 'l': 'u', 'f': 'v', 'u': 'w', 'n': 'x', 'q': 'y', 'e': 'z'}\n"
     ]
    }
   ],
   "source": [
    "coded_words = open('coded_words.csv').read()\n",
    "decoded_words, key = decode(coded_words)\n",
    "print(decoded_words)\n",
    "print(key)\n"
   ]
  },
  {
   "cell_type": "markdown",
   "metadata": {
    "id": "Ecj6pyy_65w-"
   },
   "source": []
  }
 ],
 "metadata": {
  "colab": {
   "collapsed_sections": [],
   "name": "Question3.ipynb",
   "provenance": []
  },
  "kernelspec": {
   "display_name": "Python 3",
   "language": "python",
   "name": "python3"
  },
  "language_info": {
   "codemirror_mode": {
    "name": "ipython",
    "version": 3
   },
   "file_extension": ".py",
   "mimetype": "text/x-python",
   "name": "python",
   "nbconvert_exporter": "python",
   "pygments_lexer": "ipython3",
   "version": "3.8.3"
  }
 },
 "nbformat": 4,
 "nbformat_minor": 1
}
