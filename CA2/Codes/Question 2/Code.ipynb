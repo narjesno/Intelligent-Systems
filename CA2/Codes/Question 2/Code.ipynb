{
 "cells": [
  {
   "cell_type": "code",
   "execution_count": 1,
   "metadata": {
    "colab": {
     "base_uri": "https://localhost:8080/"
    },
    "id": "toBp0CcOA-a8",
    "outputId": "a83989e0-0dd1-4dc9-9900-158b67924817"
   },
   "outputs": [
    {
     "name": "stdout",
     "output_type": "stream",
     "text": [
      "Drive already mounted at /content/drive; to attempt to forcibly remount, call drive.mount(\"/content/drive\", force_remount=True).\n"
     ]
    }
   ],
   "source": [
    "from google.colab import drive\n",
    "drive.mount('/content/drive')\n"
   ]
  },
  {
   "cell_type": "code",
   "execution_count": 2,
   "metadata": {
    "colab": {
     "base_uri": "https://localhost:8080/"
    },
    "id": "2qccqDfHBNpm",
    "outputId": "b3b987f8-19df-4944-e2d2-ba716676ec79"
   },
   "outputs": [
    {
     "name": "stdout",
     "output_type": "stream",
     "text": [
      "/content/drive\n",
      "/content/drive/My Drive\n",
      " amalearn_Setup_code.ipynb   IS-notes\t   'Question2 (1).ipynb'   RL\n",
      "'Colab Notebooks'\t    'IS projects'   Question2.ipynb\n",
      "/content/drive/My Drive/IS projects\n",
      "/content/drive/My Drive/IS projects/Homework2\n"
     ]
    }
   ],
   "source": [
    "%cd drive\n",
    "%cd 'My Drive'\n",
    "!ls\n",
    "%cd 'IS projects'\n",
    "%cd Homework2"
   ]
  },
  {
   "cell_type": "markdown",
   "metadata": {
    "id": "kfCyKRM4BNyA"
   },
   "source": [
    "---\n",
    "## Part1.\n",
    "### Desicion Tree"
   ]
  },
  {
   "cell_type": "code",
   "execution_count": 3,
   "metadata": {
    "colab": {
     "base_uri": "https://localhost:8080/",
     "height": 487
    },
    "id": "OWYSnAGwBN0h",
    "outputId": "9ea7327c-21fe-41de-8554-a01130190049"
   },
   "outputs": [
    {
     "data": {
      "text/html": [
       "<div>\n",
       "<style scoped>\n",
       "    .dataframe tbody tr th:only-of-type {\n",
       "        vertical-align: middle;\n",
       "    }\n",
       "\n",
       "    .dataframe tbody tr th {\n",
       "        vertical-align: top;\n",
       "    }\n",
       "\n",
       "    .dataframe thead th {\n",
       "        text-align: right;\n",
       "    }\n",
       "</style>\n",
       "<table border=\"1\" class=\"dataframe\">\n",
       "  <thead>\n",
       "    <tr style=\"text-align: right;\">\n",
       "      <th></th>\n",
       "      <th>Fiscal Year Released</th>\n",
       "      <th>Recidivism Reporting Year</th>\n",
       "      <th>Race - Ethnicity</th>\n",
       "      <th>Age At Release</th>\n",
       "      <th>Convicting Offense Classification</th>\n",
       "      <th>Convicting Offense Type</th>\n",
       "      <th>Convicting Offense Subtype</th>\n",
       "      <th>Main Supervising District</th>\n",
       "      <th>Release Type</th>\n",
       "      <th>Part of Target Population</th>\n",
       "      <th>Recidivism - Return to Prison numeric</th>\n",
       "    </tr>\n",
       "  </thead>\n",
       "  <tbody>\n",
       "    <tr>\n",
       "      <th>0</th>\n",
       "      <td>2010</td>\n",
       "      <td>2013</td>\n",
       "      <td>White</td>\n",
       "      <td>&lt;45</td>\n",
       "      <td>D Felony</td>\n",
       "      <td>Violent</td>\n",
       "      <td>Other</td>\n",
       "      <td>3JD</td>\n",
       "      <td>Parole</td>\n",
       "      <td>Yes</td>\n",
       "      <td>1</td>\n",
       "    </tr>\n",
       "    <tr>\n",
       "      <th>1</th>\n",
       "      <td>2010</td>\n",
       "      <td>2013</td>\n",
       "      <td>White</td>\n",
       "      <td>&gt;45</td>\n",
       "      <td>D Felony</td>\n",
       "      <td>Other</td>\n",
       "      <td>Other</td>\n",
       "      <td>3JD</td>\n",
       "      <td>Parole</td>\n",
       "      <td>Yes</td>\n",
       "      <td>1</td>\n",
       "    </tr>\n",
       "    <tr>\n",
       "      <th>2</th>\n",
       "      <td>2010</td>\n",
       "      <td>2013</td>\n",
       "      <td>White</td>\n",
       "      <td>&lt;45</td>\n",
       "      <td>D Felony</td>\n",
       "      <td>Other</td>\n",
       "      <td>Other</td>\n",
       "      <td>5JD</td>\n",
       "      <td>Parole</td>\n",
       "      <td>Yes</td>\n",
       "      <td>1</td>\n",
       "    </tr>\n",
       "    <tr>\n",
       "      <th>3</th>\n",
       "      <td>2010</td>\n",
       "      <td>2013</td>\n",
       "      <td>White</td>\n",
       "      <td>&gt;45</td>\n",
       "      <td>Other Felony</td>\n",
       "      <td>Drug</td>\n",
       "      <td>Trafficking</td>\n",
       "      <td>3JD</td>\n",
       "      <td>Parole</td>\n",
       "      <td>Yes</td>\n",
       "      <td>1</td>\n",
       "    </tr>\n",
       "    <tr>\n",
       "      <th>4</th>\n",
       "      <td>2010</td>\n",
       "      <td>2013</td>\n",
       "      <td>Black</td>\n",
       "      <td>&lt;45</td>\n",
       "      <td>D Felony</td>\n",
       "      <td>Drug</td>\n",
       "      <td>Trafficking</td>\n",
       "      <td>3JD</td>\n",
       "      <td>Parole</td>\n",
       "      <td>Yes</td>\n",
       "      <td>1</td>\n",
       "    </tr>\n",
       "    <tr>\n",
       "      <th>...</th>\n",
       "      <td>...</td>\n",
       "      <td>...</td>\n",
       "      <td>...</td>\n",
       "      <td>...</td>\n",
       "      <td>...</td>\n",
       "      <td>...</td>\n",
       "      <td>...</td>\n",
       "      <td>...</td>\n",
       "      <td>...</td>\n",
       "      <td>...</td>\n",
       "      <td>...</td>\n",
       "    </tr>\n",
       "    <tr>\n",
       "      <th>15419</th>\n",
       "      <td>2015</td>\n",
       "      <td>2018</td>\n",
       "      <td>White</td>\n",
       "      <td>&lt;45</td>\n",
       "      <td>Other Felony</td>\n",
       "      <td>Violent</td>\n",
       "      <td>Other</td>\n",
       "      <td>3JD</td>\n",
       "      <td>Discharged End of Sentence</td>\n",
       "      <td>Yes</td>\n",
       "      <td>0</td>\n",
       "    </tr>\n",
       "    <tr>\n",
       "      <th>15420</th>\n",
       "      <td>2015</td>\n",
       "      <td>2018</td>\n",
       "      <td>White</td>\n",
       "      <td>&lt;45</td>\n",
       "      <td>D Felony</td>\n",
       "      <td>Other</td>\n",
       "      <td>Other</td>\n",
       "      <td>5JD</td>\n",
       "      <td>Discharged End of Sentence</td>\n",
       "      <td>No</td>\n",
       "      <td>0</td>\n",
       "    </tr>\n",
       "    <tr>\n",
       "      <th>15421</th>\n",
       "      <td>2015</td>\n",
       "      <td>2018</td>\n",
       "      <td>Black</td>\n",
       "      <td>&lt;45</td>\n",
       "      <td>Other Felony</td>\n",
       "      <td>Violent</td>\n",
       "      <td>Other</td>\n",
       "      <td>3JD</td>\n",
       "      <td>Discharged End of Sentence</td>\n",
       "      <td>Yes</td>\n",
       "      <td>0</td>\n",
       "    </tr>\n",
       "    <tr>\n",
       "      <th>15422</th>\n",
       "      <td>2015</td>\n",
       "      <td>2018</td>\n",
       "      <td>White</td>\n",
       "      <td>&lt;45</td>\n",
       "      <td>D Felony</td>\n",
       "      <td>Drug</td>\n",
       "      <td>Other</td>\n",
       "      <td>5JD</td>\n",
       "      <td>Parole</td>\n",
       "      <td>No</td>\n",
       "      <td>0</td>\n",
       "    </tr>\n",
       "    <tr>\n",
       "      <th>15423</th>\n",
       "      <td>2015</td>\n",
       "      <td>2018</td>\n",
       "      <td>White</td>\n",
       "      <td>&lt;45</td>\n",
       "      <td>Other Felony</td>\n",
       "      <td>Violent</td>\n",
       "      <td>Other</td>\n",
       "      <td>3JD</td>\n",
       "      <td>Parole</td>\n",
       "      <td>No</td>\n",
       "      <td>0</td>\n",
       "    </tr>\n",
       "  </tbody>\n",
       "</table>\n",
       "<p>15424 rows × 11 columns</p>\n",
       "</div>"
      ],
      "text/plain": [
       "       Fiscal Year Released  ...  Recidivism - Return to Prison numeric\n",
       "0                      2010  ...                                      1\n",
       "1                      2010  ...                                      1\n",
       "2                      2010  ...                                      1\n",
       "3                      2010  ...                                      1\n",
       "4                      2010  ...                                      1\n",
       "...                     ...  ...                                    ...\n",
       "15419                  2015  ...                                      0\n",
       "15420                  2015  ...                                      0\n",
       "15421                  2015  ...                                      0\n",
       "15422                  2015  ...                                      0\n",
       "15423                  2015  ...                                      0\n",
       "\n",
       "[15424 rows x 11 columns]"
      ]
     },
     "execution_count": 3,
     "metadata": {
      "tags": []
     },
     "output_type": "execute_result"
    }
   ],
   "source": [
    "import pandas as pd\n",
    "import random\n",
    "import numpy as np\n",
    "import itertools\n",
    "import matplotlib.pyplot as plt\n",
    "import matplotlib\n",
    "from tabulate import tabulate\n",
    "\n",
    "from sklearn import preprocessing\n",
    "from sklearn import tree\n",
    "from sklearn.metrics import plot_confusion_matrix as plotConfustionMatrix\n",
    "from sklearn.ensemble import RandomForestClassifier\n",
    "from sklearn.preprocessing import StandardScaler\n",
    "\n",
    "\n",
    "TRAIN_SIZE = 0.8\n",
    "LABEL = 10\n",
    "FEATURE = 11\n",
    "K = 3\n",
    "SIZE = FEATURE/K\n",
    "\n",
    "data = pd.read_csv('prison_dataset.csv')\n",
    "data\n"
   ]
  },
  {
   "cell_type": "markdown",
   "metadata": {
    "id": "qUc8EmgYWsiy"
   },
   "source": [
    "#### Spliting data -  80%/20% "
   ]
  },
  {
   "cell_type": "code",
   "execution_count": 4,
   "metadata": {
    "id": "L9LUW7K4BN-L"
   },
   "outputs": [],
   "source": [
    "def split_data(data):\n",
    "  train_data_size = int(np.floor(data.shape[0]*TRAIN_SIZE))\n",
    "  indexes = random.sample(range(0, data.shape[0]), train_data_size)\n",
    "  indexes.sort()\n",
    "\n",
    "  train = data[indexes]\n",
    "  train_data, train_label = train[:, :], train[:, LABEL]\n",
    "  listed_data = data.tolist()\n",
    "  for i in range(train_data_size): listed_data.pop(indexes[i] - i)\n",
    "  test = np.array(listed_data)\n",
    "  test_data, test_label = test[:, :], test[:, LABEL]\n",
    "  return train_data, test_data, train_label, test_label\n"
   ]
  },
  {
   "cell_type": "markdown",
   "metadata": {
    "id": "GveGRU2rWsiy"
   },
   "source": [
    "#### Encoding data - turn strings to coded numbers"
   ]
  },
  {
   "cell_type": "code",
   "execution_count": 6,
   "metadata": {
    "id": "jkGskUb4hMnP"
   },
   "outputs": [],
   "source": [
    "def encode_data(data, flag = 'library'):\n",
    "  encoded_data = []\n",
    "  for i in range(FEATURE):\n",
    "    if flag == 'library':\n",
    "      label_encoder = preprocessing.LabelEncoder()\n",
    "      label_encoder.fit(train_data.T[i])\n",
    "      encoded_data.append(label_encoder.transform(train_data.T[i]))\n",
    "    else:\n",
    "      encoded_data.append([dict([(y, x) for x, y in enumerate(sorted(set(train_data.T[i])))])[x] for x in train_data.T[i]])\n",
    "\n",
    "  return encoded_data\n"
   ]
  },
  {
   "cell_type": "markdown",
   "metadata": {
    "id": "LzesJOzOWsiy"
   },
   "source": [
    "#### Node class - each leaf of the tree is a node "
   ]
  },
  {
   "cell_type": "code",
   "execution_count": 7,
   "metadata": {
    "id": "YVylyTFaILqv"
   },
   "outputs": [],
   "source": [
    "class Node:\n",
    "\tdef __init__(self, child = np.array([]), data = None, label = None, attributes = None):\n",
    "\t\tself.child = child\n",
    "\t\tself.data = data\n",
    "\t\tself.label = label\n",
    "\t\tself.attributes = attributes\n"
   ]
  },
  {
   "cell_type": "code",
   "execution_count": 8,
   "metadata": {
    "id": "T8BQPxGKqqOS"
   },
   "outputs": [],
   "source": [
    "def grow_node(root, attribute, threshold):\n",
    "  if(len(threshold[attribute]) == 2):\n",
    "    root.child = np.append(root.child, [Node(data = np.array([data for data in root.data if data[attribute] ==  threshold[attribute][0]]))], axis = 0)\n",
    "    root.child = np.append(root.child, [Node(data = np.array([data for data in root.data if data[attribute] == threshold[attribute][1]]))], axis = 0)\n",
    "    \n",
    "  else:\n",
    "    root.child = np.append(root.child, [Node(data = np.array([data for data in root.data if data[attribute] ==  threshold[attribute][0]]))], axis = 0)\n",
    "    root.child = np.append(root.child, [Node(data = np.array([data for data in root.data if data[attribute] ==  threshold[attribute][1]]))], axis = 0)\n",
    "    root.child = np.append(root.child, [Node(data = np.array([data for data in root.data if data[attribute] ==  threshold[attribute][2]]))], axis = 0)"
   ]
  },
  {
   "cell_type": "markdown",
   "metadata": {
    "id": "ntA_GsPHWsiy"
   },
   "source": [
    "#### Calculating entropy - $-p_+log_2^{p_+} - p_-log_2^{p_-}$"
   ]
  },
  {
   "cell_type": "code",
   "execution_count": 9,
   "metadata": {
    "id": "-aNXai5kxmXc"
   },
   "outputs": [],
   "source": [
    "def entropy(target_node):\n",
    "    elements, counts = np.unique(target_node, return_counts = True)\n",
    "    entropy = np.sum([(-counts[i]/np.sum(counts)) * np.log2(counts[i]/np.sum(counts)) for i in range(len(elements))])\n",
    "    return entropy\n",
    "    "
   ]
  },
  {
   "cell_type": "markdown",
   "metadata": {
    "id": "QSQ9nrH1Wsiy"
   },
   "source": [
    "#### Calculating Information Gain - $\\text{entropy(S)} - \\sum_V \\frac{|S_v|}{|S|}\\text{entropy}(S_v) $"
   ]
  },
  {
   "cell_type": "code",
   "execution_count": 10,
   "metadata": {
    "id": "myxkXU3ryJ11"
   },
   "outputs": [],
   "source": [
    "def information_gain(root):\n",
    "  total_entropy = entropy(root.data.T[-1])\n",
    "  reduction = np.sum([(child.data.shape[0] / root.data.shape[0]) * entropy(child.data.T[-1]) for child in root.child if not child.data.shape[0] == 0], axis = 0)\n",
    "  gain = total_entropy - reduction\n",
    "  return gain\n"
   ]
  },
  {
   "cell_type": "markdown",
   "metadata": {
    "id": "gSxpticpWsiy"
   },
   "source": [
    "#### Finding best attribute - criteria : Information Gain"
   ]
  },
  {
   "cell_type": "code",
   "execution_count": 11,
   "metadata": {
    "id": "utLo5GyNqdKM"
   },
   "outputs": [],
   "source": [
    "def find_best_attribute(root, threshold):\n",
    "  information = np.array([])\n",
    "  for attr in range(len(root.data[0]) - 1):\n",
    "      temp_node = Node(data = root.data, label = root.label, attributes = root.attributes)\n",
    "      grow_node(temp_node, attr, threshold)\n",
    "      information = np.append(information, [information_gain(temp_node)], axis=0)\n",
    "      best_attibute = np.argmax(information)\n",
    "  return best_attibute"
   ]
  },
  {
   "cell_type": "markdown",
   "metadata": {
    "id": "VEzulqZFWsiy"
   },
   "source": [
    "#### Finding disjunctive attribute"
   ]
  },
  {
   "cell_type": "code",
   "execution_count": 12,
   "metadata": {
    "id": "mU-FShJFfK8F"
   },
   "outputs": [],
   "source": [
    "def calculate_threshold(train_data):\n",
    "  threshold = []\n",
    "  for i in range(train_data.shape[1]):\n",
    "      unique_attribute = np.unique(train_data[:, i])\n",
    "      threshold.append(unique_attribute)\n",
    "  return threshold"
   ]
  },
  {
   "cell_type": "markdown",
   "metadata": {
    "id": "-6NFGDQdWsiy"
   },
   "source": [
    "#### Making desicion tree - algorithm : ID3"
   ]
  },
  {
   "cell_type": "code",
   "execution_count": 13,
   "metadata": {
    "id": "iJK0O8qlPy1K"
   },
   "outputs": [],
   "source": [
    "def ID3(train_data, max_depth, threshold):\n",
    "\t\troot = Node(data = train_data)\n",
    "\t\tif (root.data.T[-1].all() == True):\n",
    "\t\t\troot.label = 1\n",
    "\t\t\treturn root\n",
    "\t\tif (root.data.T[-1].any() == False):\n",
    "\t\t\troot.label = 0\n",
    "\t\t\treturn root\n",
    "\n",
    "\t\tif(max_depth == 0):\n",
    "\t\t\troot.label = 1*((root.data.T[-1] == 1).sum() > (root.data.T[-1] == 0).sum())\n",
    "\t\t\treturn root\n",
    "\t\n",
    "\t\tattribute = find_best_attribute(root, threshold)\n",
    "\t\troot.attributes = attribute\n",
    "\t\tif(len(threshold[attribute]) == 2):\n",
    "\t\t\troot.child = np.append(root.child, [ID3(np.array([data for data in train_data if data[attribute] == threshold[attribute][0]]), max_depth-1, threshold)], axis = 0)\n",
    "\t\t\troot.child = np.append(root.child, [ID3(np.array([data for data in train_data if data[attribute] == threshold[attribute][1]]), max_depth-1, threshold)], axis = 0)\n",
    "\t\telse:\n",
    "\t\t\troot.child = np.append(root.child, [ID3(np.array([data for data in train_data if data[attribute] == threshold[attribute][0]]), max_depth-1, threshold)], axis = 0)\n",
    "\t\t\troot.child = np.append(root.child, [ID3(np.array([data for data in train_data if data[attribute] == threshold[attribute][1]]), max_depth-1, threshold)], axis = 0)\n",
    "\t\t\troot.child = np.append(root.child, [ID3(np.array([data for data in train_data if data[attribute] == threshold[attribute][2]]), max_depth-1, threshold)], axis = 0)\n",
    "\t\treturn root"
   ]
  },
  {
   "cell_type": "markdown",
   "metadata": {
    "id": "-7i62XLD2Hd6"
   },
   "source": [
    "####Testing the trained tree\n"
   ]
  },
  {
   "cell_type": "code",
   "execution_count": 15,
   "metadata": {
    "id": "b3wJFr8SGMMc"
   },
   "outputs": [],
   "source": [
    "def move_along_tree(test_data, tree, threshold):\n",
    "  if tree.label != None : return tree.label\n",
    "  else:\n",
    "    if len(threshold[tree.attributes]) == 2 :\n",
    "      return move_along_tree(test_data, tree.child[0], threshold) if test_data[tree.attributes] == threshold[tree.attributes][0] else move_along_tree(test_data, tree.child[1], threshold)\n",
    "    else:\n",
    "        if test_data[tree.attributes] == threshold[tree.attributes][0]: return move_along_tree(test_data, tree.child[0], threshold)\n",
    "        elif test_data[tree.attributes] == threshold[tree.attributes][1]: return move_along_tree(test_data, tree.child[1], threshold)\n",
    "        else: return move_along_tree(test_data, tree.child[2], threshold)\n",
    "\n"
   ]
  },
  {
   "cell_type": "code",
   "execution_count": 16,
   "metadata": {
    "id": "8Z_VX5cFYyjD"
   },
   "outputs": [],
   "source": [
    "def test_trained_tree(train_data, test_data, final_tree):\n",
    "  return [move_along_tree(test_data[i], final_tree, threshold) for i in range(len(test_data))]"
   ]
  },
  {
   "cell_type": "markdown",
   "metadata": {
    "id": "gpEdhqUa2PPo"
   },
   "source": [
    "#### Calculating Accuracy\n",
    "\n"
   ]
  },
  {
   "cell_type": "code",
   "execution_count": 17,
   "metadata": {
    "id": "jQPM02rIWsiy"
   },
   "outputs": [],
   "source": [
    "def calculate_acc(results, test_data):\n",
    "\treturn (results == test_data[:, -1].astype(int)).mean()*100"
   ]
  },
  {
   "cell_type": "code",
   "execution_count": 18,
   "metadata": {
    "id": "ZbZj5AHUb4Ve"
   },
   "outputs": [],
   "source": [
    "data = data.to_numpy()\n",
    "np.random.shuffle(data)\n",
    "train_data, test_data, train_label, test_label = split_data(data)\n",
    "encoded_train_data = np.array(encode_data(train_data)).T\n",
    "encoded_test_data = np.array(encode_data(test_data)).T"
   ]
  },
  {
   "cell_type": "code",
   "execution_count": 19,
   "metadata": {
    "id": "p_UxN8k8mHXI"
   },
   "outputs": [],
   "source": [
    "threshold = calculate_threshold(encoded_train_data)\n",
    "max_depth = 3\n",
    "final_tree = ID3(encoded_train_data, max_depth, threshold)"
   ]
  },
  {
   "cell_type": "code",
   "execution_count": 20,
   "metadata": {
    "colab": {
     "base_uri": "https://localhost:8080/"
    },
    "id": "jKuyb_ZpWsiy",
    "outputId": "d84bff00-39a1-4c03-8285-ec1f50d5ab38"
   },
   "outputs": [
    {
     "name": "stdout",
     "output_type": "stream",
     "text": [
      "Accuracy of Decision Tree is: % 71.76\n"
     ]
    }
   ],
   "source": [
    "predicted_labels = test_trained_tree(encoded_train_data, encoded_test_data, final_tree)\n",
    "print('Accuracy of Decision Tree is: %% %1.2f' %(calculate_acc(predicted_labels, encoded_test_data)))"
   ]
  },
  {
   "cell_type": "markdown",
   "metadata": {
    "id": "lf9bXA51W-fa"
   },
   "source": [
    "#### Confusion Matrix "
   ]
  },
  {
   "cell_type": "code",
   "execution_count": 21,
   "metadata": {
    "id": "uVJxhGa8W99w"
   },
   "outputs": [],
   "source": [
    "def make_confusion_matrix(test_labels, predicted_labels):\n",
    "  class_labels = np.unique(test_labels)  \n",
    "  return np.array([[np.sum((test_labels == class_labels[i]) & (predicted_labels == class_labels[j])) for j in range(len(class_labels))] for i in  range(len(class_labels))]) "
   ]
  },
  {
   "cell_type": "code",
   "execution_count": 22,
   "metadata": {
    "id": "hci7hc_djzDT"
   },
   "outputs": [],
   "source": [
    "def plot_confusion_matrix(matrix, classes, normalize=False, title='Confusion matrix', cmap = plt.cm.Purples):\n",
    "    plt.figure(figsize = (5,5))\n",
    "    plt.imshow(matrix, interpolation = 'nearest', cmap = cmap)\n",
    "    plt.title(title, fontsize = 10, fontweight = 'bold')\n",
    "    plt.colorbar()\n",
    "    tick_marks = np.arange(len(classes))\n",
    "    plt.xticks(tick_marks, classes)\n",
    "    plt.yticks(tick_marks, classes)\n",
    "    thresh = matrix.max() / 2.\n",
    "    for i, j in itertools.product(range(matrix.shape[0]), range(matrix.shape[1])):\n",
    "        plt.text(j, i, matrix[i, j], ha='center', va='center', color='lavender' if matrix[i,j]>thresh else 'mediumpurple')\n",
    "    plt.ylabel('True Labels', fontsize = 10, fontweight = 'bold')\n",
    "    plt.xlabel('Predicted Lables', fontsize = 10, fontweight = 'bold')\n",
    "    plt.show()"
   ]
  },
  {
   "cell_type": "code",
   "execution_count": 23,
   "metadata": {
    "colab": {
     "base_uri": "https://localhost:8080/",
     "height": 311
    },
    "id": "XJVfwq0akMMx",
    "outputId": "0c60e8f3-3913-49fc-c79c-9972b7282747"
   },
   "outputs": [
    {
     "data": {
      "image/png": "[encoded data removed]",
      "text/plain": [
       "<Figure size 360x360 with 2 Axes>"
      ]
     },
     "metadata": {
      "needs_background": "light",
      "tags": []
     },
     "output_type": "display_data"
    }
   ],
   "source": [
    "\n",
    "confusion_matrix = make_confusion_matrix(encoded_test_data[:,-1], predicted_labels)\n",
    "plot_confusion_matrix(confusion_matrix, ['Return to Prison', 'Staying out of Prison'], title = 'Confusion Matrix(Desicion tree) \\n without skLearn')\n"
   ]
  },
  {
   "cell_type": "markdown",
   "metadata": {
    "id": "1Ag56a_Twkdu"
   },
   "source": [
    "---\n",
    "## Part2.\n",
    "### Random Forest"
   ]
  },
  {
   "cell_type": "markdown",
   "metadata": {
    "id": "MBDTTIcqWsiz"
   },
   "source": [
    "#### Making random forest - algorithm : ID3 -  K : 3"
   ]
  },
  {
   "cell_type": "code",
   "execution_count": 24,
   "metadata": {
    "id": "L6pdSxl1mXb1"
   },
   "outputs": [],
   "source": [
    "def ID3_random_forest(train_data, max_depth, threshold, k):\n",
    "\n",
    "    root = Node(data = train_data)\n",
    "    if not len(np.array(root.data)) == 0:\n",
    "      if (root.data.T[-1].all() == True):\n",
    "        root.label = 1\n",
    "        return root\n",
    "      if (root.data[-1].any() == False):\n",
    "        root.label = 0\n",
    "        return root\n",
    "\n",
    "      if(max_depth == 0):\n",
    "        root.label = 1*((root.data[-1] == 1).sum() > (root.data.T[-1] == 0).sum())\n",
    "        return root\n",
    "    else : return root\n",
    "    attribute = find_best_attribute(root, threshold)\n",
    "    new_attribute = attribute + int(k*SIZE)\n",
    "    root.attributes = new_attribute\n",
    "    if(len(threshold[new_attribute]) == 2):\n",
    "      root.child = np.append(root.child, [ID3_random_forest(np.array([data for data in train_data if data[attribute] == threshold[new_attribute][0]]), max_depth-1, threshold, k)], axis = 0)\n",
    "      root.child = np.append(root.child, [ID3_random_forest(np.array([data for data in train_data if data[attribute] == threshold[new_attribute][1]]), max_depth-1, threshold, k)], axis = 0)\n",
    "    else:\n",
    "      root.child = np.append(root.child, [ID3_random_forest(np.array([data for data in train_data if data[attribute] == threshold[new_attribute][0]]), max_depth-1, threshold, k)], axis = 0)\n",
    "      root.child = np.append(root.child, [ID3_random_forest(np.array([data for data in train_data if data[attribute] == threshold[new_attribute][1]]), max_depth-1, threshold, k)], axis = 0)\n",
    "      root.child = np.append(root.child, [ID3_random_forest(np.array([data for data in train_data if data[attribute] == threshold[new_attribute][2]]), max_depth-1, threshold, k)], axis = 0)\n",
    "    return root"
   ]
  },
  {
   "cell_type": "code",
   "execution_count": 27,
   "metadata": {
    "id": "G7tk3zFdbMAz",
    "tags": []
   },
   "outputs": [],
   "source": [
    "K = 3\n",
    "SIZE = 11/K\n",
    "#np.random.shuffle(encoded_train_data.T[:, :-1])\n",
    "final_tree = [ID3_random_forest(np.column_stack((encoded_train_data[:, int(k*SIZE):int((k+1)* SIZE)], encoded_train_data[:,-1])), 3, threshold, k) for k in range(K)]\n",
    "\n",
    "final_predictions = []\n",
    "for en in range(len(encoded_test_data)):\n",
    "  predictions = [(move_along_tree(encoded_train_data[en], final_tree[k], threshold)) for k in range(K)]\n",
    "  final_predictions.append(1*((np.array(predictions) == 1).sum() > (np.array(predictions) == 0).sum()))\n"
   ]
  },
  {
   "cell_type": "code",
   "execution_count": 28,
   "metadata": {
    "colab": {
     "base_uri": "https://localhost:8080/"
    },
    "id": "HhV0mLcnWsiz",
    "outputId": "abe0a6cd-e2b7-4d60-ed62-618f6b48d20a"
   },
   "outputs": [
    {
     "name": "stdout",
     "output_type": "stream",
     "text": [
      "Accuracy of Random Forest with k =  3 is: % 58.38\n"
     ]
    }
   ],
   "source": [
    "print('Accuracy of Random Forest with k = ', K , 'is: %% %1.2f' %(calculate_acc(final_predictions, encoded_test_data)))"
   ]
  },
  {
   "cell_type": "code",
   "execution_count": 29,
   "metadata": {
    "colab": {
     "base_uri": "https://localhost:8080/",
     "height": 311
    },
    "id": "BLhd568_ys1L",
    "outputId": "e4660f1b-b390-4ec0-fdc6-fe284c52caa3"
   },
   "outputs": [
    {
     "data": {
      "image/png": "[encoded data removed]",
      "text/plain": [
       "<Figure size 360x360 with 2 Axes>"
      ]
     },
     "metadata": {
      "needs_background": "light",
      "tags": []
     },
     "output_type": "display_data"
    }
   ],
   "source": [
    "confusion_matrix = make_confusion_matrix(encoded_test_data[:,-1], final_predictions)\n",
    "plot_confusion_matrix(confusion_matrix, ['Return to Prison', 'Staying out of Prison'], title = 'Confusion Matrix(Radom forest) \\n without skLearn')"
   ]
  },
  {
   "cell_type": "markdown",
   "metadata": {
    "id": "YAknCTXgWsiz"
   },
   "source": [
    "---\n",
    "## Part3.\n",
    "### Using sklearn"
   ]
  },
  {
   "cell_type": "code",
   "execution_count": 30,
   "metadata": {
    "colab": {
     "base_uri": "https://localhost:8080/",
     "height": 248
    },
    "id": "PSrabs-uWsiz",
    "outputId": "7b164516-da41-41f4-aa9f-ed48d65d4f3c"
   },
   "outputs": [
    {
     "data": {
      "image/png": "[encoded data removed]",
      "text/plain": [
       "<Figure size 432x288 with 1 Axes>"
      ]
     },
     "metadata": {
      "needs_background": "light",
      "tags": []
     },
     "output_type": "display_data"
    }
   ],
   "source": [
    "\n",
    "clf = tree.DecisionTreeClassifier(criterion = \"entropy\", random_state = 0, max_depth = 3)\n",
    "clf = clf.fit(encoded_train_data[:,:-1], encoded_test_data[:,-1])\n",
    "tree.plot_tree(clf);"
   ]
  },
  {
   "cell_type": "code",
   "execution_count": 31,
   "metadata": {
    "colab": {
     "base_uri": "https://localhost:8080/"
    },
    "id": "Uz_1TTxnWsiz",
    "outputId": "f18f0a2c-b275-4031-b091-ef4a7904c5a9"
   },
   "outputs": [
    {
     "name": "stdout",
     "output_type": "stream",
     "text": [
      "Accuracy of Decision Tree using sklearn is: % 71.76\n"
     ]
    }
   ],
   "source": [
    "y_pred = clf.predict(encoded_test_data[:,:-1])\n",
    "accuracy = (y_pred == encoded_test_data[:, -1].astype(int)).mean()\n",
    "print('Accuracy of Decision Tree using sklearn is: %% %1.2f' %(accuracy*100))"
   ]
  },
  {
   "cell_type": "code",
   "execution_count": 32,
   "metadata": {
    "id": "6L8-Swu5yk1G"
   },
   "outputs": [],
   "source": [
    "def plot_confusion_matrix_sk(clf, test_data, test_label, matrix_labels, matrix_title):\n",
    "  disp = plotConfustionMatrix(clf, test_data, test_label, display_labels = matrix_labels, cmap=plt.cm.Purples)\n",
    "  disp.ax_.set_title(matrix_title)\n",
    "  plt.show()"
   ]
  },
  {
   "cell_type": "code",
   "execution_count": 33,
   "metadata": {
    "colab": {
     "base_uri": "https://localhost:8080/",
     "height": 310
    },
    "id": "bA95lrmg1DRx",
    "outputId": "be799d82-b0af-4ba0-de85-5189e29c14eb"
   },
   "outputs": [
    {
     "data": {
      "image/png": "[encoded data removed]",
      "text/plain": [
       "<Figure size 432x288 with 2 Axes>"
      ]
     },
     "metadata": {
      "needs_background": "light",
      "tags": []
     },
     "output_type": "display_data"
    }
   ],
   "source": [
    "plot_confusion_matrix_sk(clf, encoded_train_data[:,:-1], encoded_test_data[:,-1], ['Return to Prison', 'Staying out of Prison'],  'Confusion Matrix(Decision tree) \\n with skLearn')"
   ]
  },
  {
   "cell_type": "code",
   "execution_count": 37,
   "metadata": {
    "id": "zzPMofXd5hHS"
   },
   "outputs": [],
   "source": [
    "clf_rf = RandomForestClassifier(random_state = 0, max_depth = 3)\n",
    "clf_rf = clf_rf.fit(encoded_train_data[:,:-1], encoded_test_data[:,-1])"
   ]
  },
  {
   "cell_type": "code",
   "execution_count": 38,
   "metadata": {
    "colab": {
     "base_uri": "https://localhost:8080/"
    },
    "id": "utKnclMp5iqQ",
    "outputId": "55b30112-d536-4bbd-ee99-500be78e2c47"
   },
   "outputs": [
    {
     "name": "stdout",
     "output_type": "stream",
     "text": [
      "Accuracy of Random Forest using sklearn is: % 71.92\n"
     ]
    }
   ],
   "source": [
    "y_pred = clf_rf.predict(encoded_test_data[:,:-1])\n",
    "accuracy_rf = (y_pred == encoded_test_data[:, -1]).mean()\n",
    "print('Accuracy of Random Forest using sklearn is: %% %1.2f' %(accuracy_rf*100))"
   ]
  },
  {
   "cell_type": "code",
   "execution_count": 36,
   "metadata": {
    "colab": {
     "base_uri": "https://localhost:8080/",
     "height": 310
    },
    "id": "vnl83AgD5kvD",
    "outputId": "6f2327a0-70f9-4850-8e5d-4c3834f3ac74"
   },
   "outputs": [
    {
     "data": {
      "image/png": "[encoded data removed]",
      "text/plain": [
       "<Figure size 432x288 with 2 Axes>"
      ]
     },
     "metadata": {
      "needs_background": "light",
      "tags": []
     },
     "output_type": "display_data"
    }
   ],
   "source": [
    "plot_confusion_matrix_sk(clf_rf, encoded_train_data[:,:-1], encoded_test_data[:,-1], ['Return to Prison', 'Staying out of Prison'],  'Confusion Matrix(Random Forest) \\n with skLearn')"
   ]
  }
 ],
 "metadata": {
  "colab": {
   "collapsed_sections": [],
   "name": "Question2 (1).ipynb",
   "provenance": []
  },
  "kernelspec": {
   "display_name": "Python 3",
   "language": "python",
   "name": "python3"
  },
  "language_info": {
   "codemirror_mode": {
    "name": "ipython",
    "version": 3
   },
   "file_extension": ".py",
   "mimetype": "text/x-python",
   "name": "python",
   "nbconvert_exporter": "python",
   "pygments_lexer": "ipython3",
   "version": "3.8.3"
  }
 },
 "nbformat": 4,
 "nbformat_minor": 1
}
