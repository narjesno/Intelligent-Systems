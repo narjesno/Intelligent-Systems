{
 "cells": [
  {
   "cell_type": "code",
   "execution_count": null,
   "metadata": {
    "colab": {
     "base_uri": "https://localhost:8080/"
    },
    "executionInfo": {
     "elapsed": 1613,
     "status": "ok",
     "timestamp": 1608663260181,
     "user": {
      "displayName": "Narjes Noorzad",
      "photoUrl": "https://lh3.googleusercontent.com/a-/AOh14Gj7tkVNhkAPpQLlGPleUdGAeLotodizEcuFCkFIkA=s64",
      "userId": "16921968874120068723"
     },
     "user_tz": -210
    },
    "id": "P0HLd5clS5Li",
    "outputId": "432d393b-5a58-4194-d026-64b4b5276b8b"
   },
   "outputs": [
    {
     "name": "stdout",
     "output_type": "stream",
     "text": [
      "Drive already mounted at /content/drive; to attempt to forcibly remount, call drive.mount(\"/content/drive\", force_remount=True).\n"
     ]
    }
   ],
   "source": [
    "from google.colab import drive\n",
    "drive.mount('/content/drive')"
   ]
  },
  {
   "cell_type": "code",
   "execution_count": null,
   "metadata": {
    "colab": {
     "base_uri": "https://localhost:8080/"
    },
    "executionInfo": {
     "elapsed": 1598,
     "status": "ok",
     "timestamp": 1608663260182,
     "user": {
      "displayName": "Narjes Noorzad",
      "photoUrl": "https://lh3.googleusercontent.com/a-/AOh14Gj7tkVNhkAPpQLlGPleUdGAeLotodizEcuFCkFIkA=s64",
      "userId": "16921968874120068723"
     },
     "user_tz": -210
    },
    "id": "Xhv4Sv3NTdxn",
    "outputId": "e4855ce6-42dd-4d06-b32c-39977bea2ab1"
   },
   "outputs": [
    {
     "name": "stdout",
     "output_type": "stream",
     "text": [
      "[Errno 2] No such file or directory: 'drive'\n",
      "/content/drive/My Drive/IS projects/Homework4/Q1\n",
      "[Errno 2] No such file or directory: 'My Drive'\n",
      "/content/drive/My Drive/IS projects/Homework4/Q1\n",
      "[Errno 2] No such file or directory: 'IS projects'\n",
      "/content/drive/My Drive/IS projects/Homework4/Q1\n",
      "[Errno 2] No such file or directory: 'Homework4'\n",
      "/content/drive/My Drive/IS projects/Homework4/Q1\n",
      "[Errno 2] No such file or directory: 'Q1'\n",
      "/content/drive/My Drive/IS projects/Homework4/Q1\n"
     ]
    }
   ],
   "source": [
    "%cd drive\n",
    "%cd 'My Drive'\n",
    "%cd 'IS projects'\n",
    "%cd Homework4\n",
    "%cd Q1"
   ]
  },
  {
   "cell_type": "code",
   "execution_count": null,
   "metadata": {
    "id": "CFigRQoiTouI"
   },
   "outputs": [],
   "source": [
    "import pandas as pd\n",
    "import random\n",
    "import numpy as np\n",
    "import itertools\n",
    "import matplotlib.pyplot as plt\n",
    "import matplotlib\n",
    "from tabulate import tabulate\n",
    "from copy import deepcopy\n",
    "\n",
    "from sklearn.cluster import KMeans\n",
    "from sklearn.metrics import confusion_matrix"
   ]
  },
  {
   "cell_type": "markdown",
   "metadata": {
    "id": "LWFEE20CdIEH"
   },
   "source": [
    "#### Reading the data "
   ]
  },
  {
   "cell_type": "code",
   "execution_count": null,
   "metadata": {
    "id": "4Ik82tYVT_vh"
   },
   "outputs": [],
   "source": [
    "def read_data(filename): return pd.read_csv(filename, index_col = None, header = None).to_numpy()"
   ]
  },
  {
   "cell_type": "markdown",
   "metadata": {
    "id": "o9UH6FeRx6Ht"
   },
   "source": [
    "#### K-means class with different attributes and methods"
   ]
  },
  {
   "cell_type": "code",
   "execution_count": null,
   "metadata": {
    "id": "RD25DCR1de1w"
   },
   "outputs": [],
   "source": [
    "class Kmeans:\n",
    "\n",
    "  def __init__(self, k):\n",
    "    self.k = k\n",
    "    self.clusters_data = np.zeros((k, train_data.shape[1]))\n",
    "    self.centers_labels = np.zeros(k)\n",
    "\n",
    "  def split_data(self, train_data):\n",
    "    np.random.seed(0)\n",
    "    new_centers = np.random.randn(self.k, train_data.shape[1])*np.std(train_data, axis = 0) + np.mean(train_data, axis = 0)\n",
    "    #np.random.uniform(min(train_data.flatten()),max(train_data.flatten()),[k,train_data.shape[1]])\n",
    "    error = np.linalg.norm(new_centers - self.clusters_data)\n",
    "    while not error == 0 :\n",
    "        self.clusters_data = deepcopy(new_centers)\n",
    "        distances = np.array([np.linalg.norm(train_data - new_centers[k], axis=1) for k in range(self.k)])\n",
    "        clusters = np.argmin(distances.T, axis = 1)\n",
    "        new_centers = np.array([np.mean(train_data[clusters == k], axis=0) for k in range(self.k)])\n",
    "        error = np.linalg.norm(new_centers - self.clusters_data)\n",
    "\n",
    "  def find_centers_labels(self, train_data, train_labels): \n",
    "      train_labels = train_labels.flatten()\n",
    "      distances = np.array([np.linalg.norm(train_data - self.clusters_data[k], axis=1) for k in range(self.k)])\n",
    "      clusters = np.argmin(distances.T, axis = 1)\n",
    "      self.centers_labels = np.array([np.argmax(np.bincount((train_labels[clusters == k]).astype(int))) for k in range(self.k)])\n",
    "      return self.centers_labels\n",
    "\n",
    "\n",
    "  def predict_datas_labels(self, test_data, test_labels):\n",
    "    distances = np.array([np.linalg.norm(test_data - self.clusters_data[k], axis=1) for k in range(self.k)])\n",
    "    clusters = np.argmin(distances.T, axis=1)\n",
    "    predict = self.centers_labels[clusters]\n",
    "    return predict\n"
   ]
  },
  {
   "cell_type": "markdown",
   "metadata": {
    "id": "VUfUmXInZSwT"
   },
   "source": [
    "#### Calculating Accuracy"
   ]
  },
  {
   "cell_type": "code",
   "execution_count": null,
   "metadata": {
    "id": "00DbRHXyY2Iy"
   },
   "outputs": [],
   "source": [
    "def calculate_acc(predicted_label, test_label):\n",
    "\treturn (predicted_label == test_label.flatten().astype(int)).mean()*100"
   ]
  },
  {
   "cell_type": "code",
   "execution_count": null,
   "metadata": {
    "id": "CSgVHWK_UFaT"
   },
   "outputs": [],
   "source": [
    "train_data = read_data('Train_Data.csv')\n",
    "test_data = read_data('Test_Data.csv')\n",
    "train_labels = read_data('Train_Labels.csv')\n",
    "test_labels = read_data('Test_Labels.csv')\n",
    "\n",
    "k = np.unique(train_labels).shape[0]"
   ]
  },
  {
   "cell_type": "code",
   "execution_count": null,
   "metadata": {
    "colab": {
     "base_uri": "https://localhost:8080/"
    },
    "executionInfo": {
     "elapsed": 1573,
     "status": "ok",
     "timestamp": 1608663260186,
     "user": {
      "displayName": "Narjes Noorzad",
      "photoUrl": "https://lh3.googleusercontent.com/a-/AOh14Gj7tkVNhkAPpQLlGPleUdGAeLotodizEcuFCkFIkA=s64",
      "userId": "16921968874120068723"
     },
     "user_tz": -210
    },
    "id": "1_tvTgJzxq_4",
    "outputId": "97e1b43f-f47c-44fb-ab4c-19f8eac5a776"
   },
   "outputs": [
    {
     "name": "stdout",
     "output_type": "stream",
     "text": [
      "Accuracy of k-means with k = 3 is: % 75.76\n"
     ]
    }
   ],
   "source": [
    "my_kmeans = Kmeans(k)\n",
    "my_kmeans.split_data(train_data)\n",
    "my_kmeans.find_centers_labels(train_data, train_labels)\n",
    "predicted = my_kmeans.predict_datas_labels(test_data, test_labels)\n",
    "\n",
    "print('Accuracy of k-means with k =', k , 'is: %% %1.2f' %(calculate_acc(predicted, test_labels)))"
   ]
  },
  {
   "cell_type": "markdown",
   "metadata": {
    "id": "H4WHRZz7Wg5Q"
   },
   "source": [
    "\n",
    "\n",
    "---\n",
    "## Part 2.\n",
    "\n",
    "#### Using sklearn\n"
   ]
  },
  {
   "cell_type": "code",
   "execution_count": null,
   "metadata": {
    "id": "0MuK-CgvweJc"
   },
   "outputs": [],
   "source": [
    "def find_centers_labels(k, centers, train_data, train_labels): \n",
    "    train_labels = train_labels.flatten()\n",
    "    distances = np.array([np.linalg.norm(train_data - centers[i], axis=1) for i in range(k)])\n",
    "    clusters = np.argmin(distances.T, axis=1)\n",
    "    centers_labels = np.array([np.argmax(np.bincount((train_labels[clusters == i]).astype(int))) for i in range(k)])\n",
    "    return centers_labels\n",
    "\n",
    "def predict_datas_labels(k, clusters_data, centers_labels, test_data, test_labels):\n",
    "    distances = np.array([np.linalg.norm(test_data - clusters_data[i], axis=1) for i in range(k)])\n",
    "    clusters = np.argmin(distances.T, axis=1)\n",
    "    predict = centers_labels[clusters]\n",
    "    return predict"
   ]
  },
  {
   "cell_type": "code",
   "execution_count": null,
   "metadata": {
    "colab": {
     "base_uri": "https://localhost:8080/"
    },
    "executionInfo": {
     "elapsed": 1562,
     "status": "ok",
     "timestamp": 1608663260187,
     "user": {
      "displayName": "Narjes Noorzad",
      "photoUrl": "https://lh3.googleusercontent.com/a-/AOh14Gj7tkVNhkAPpQLlGPleUdGAeLotodizEcuFCkFIkA=s64",
      "userId": "16921968874120068723"
     },
     "user_tz": -210
    },
    "id": "w25LJPgWWgmi",
    "outputId": "af5705e6-2b99-4346-e2f5-eca55e1a1ceb"
   },
   "outputs": [
    {
     "name": "stdout",
     "output_type": "stream",
     "text": [
      "Accuracy of k-means with k = 3 using sklearn is: % 75.76\n"
     ]
    }
   ],
   "source": [
    "kmeans = KMeans(n_clusters = k)\n",
    "kmeans = kmeans.fit(train_data)\n",
    "labels = kmeans.predict(test_data)\n",
    "centroids = kmeans.cluster_centers_\n",
    "centers_labels = find_centers_labels(k, centroids, train_data, train_labels)\n",
    "predicted_sk = predict_datas_labels(k, centroids, centers_labels, test_data, test_labels)\n",
    "\n",
    "print('Accuracy of k-means with k =', k , 'using sklearn is: %% %1.2f' %(calculate_acc(predicted_sk, test_labels)))\n"
   ]
  },
  {
   "cell_type": "markdown",
   "metadata": {
    "id": "6si5Ie2sWwxr"
   },
   "source": [
    "\n",
    "---\n",
    "## Part 3.\n",
    "\n",
    "#### Plotting Confusion Matrix"
   ]
  },
  {
   "cell_type": "code",
   "execution_count": null,
   "metadata": {
    "id": "uVJxhGa8W99w"
   },
   "outputs": [],
   "source": [
    "def make_confusion_matrix(test_labels, predicted_labels):\n",
    "  class_labels = np.unique(test_labels)  \n",
    "  return np.array([[np.sum((test_labels == class_labels[i]) & (predicted_labels == class_labels[j])) for j in range(len(class_labels))] for i in  range(len(class_labels))]) "
   ]
  },
  {
   "cell_type": "code",
   "execution_count": null,
   "metadata": {
    "id": "hci7hc_djzDT"
   },
   "outputs": [],
   "source": [
    "def plot_confusion_matrix(matrix, classes, normalize=False, title='Confusion matrix', cmap = plt.cm.gist_yarg):\n",
    "    plt.figure(figsize = (5,5))\n",
    "    plt.imshow(matrix, interpolation = 'nearest', cmap = cmap)\n",
    "    plt.title(title, fontsize = 10, fontweight = 'bold')\n",
    "    plt.colorbar()\n",
    "    tick_marks = np.arange(len(classes))\n",
    "    plt.xticks(tick_marks, classes)\n",
    "    plt.yticks(tick_marks, classes)\n",
    "    thresh = matrix.max() / 2.\n",
    "    for i, j in itertools.product(range(matrix.shape[0]), range(matrix.shape[1])):\n",
    "        plt.text(j, i, matrix[i, j], ha='center', va='center', color='white' if matrix[i,j]>thresh else 'grey')\n",
    "    plt.ylabel('True Labels', fontsize = 10, fontweight = 'bold')\n",
    "    plt.xlabel('Predicted Lables', fontsize = 10, fontweight = 'bold')\n",
    "    plt.show()"
   ]
  },
  {
   "cell_type": "markdown",
   "metadata": {
    "id": "KWbuK_bcbuge"
   },
   "source": [
    "#### Confusion Matrix "
   ]
  },
  {
   "cell_type": "code",
   "execution_count": null,
   "metadata": {
    "colab": {
     "base_uri": "https://localhost:8080/",
     "height": 313
    },
    "executionInfo": {
     "elapsed": 2551,
     "status": "ok",
     "timestamp": 1608663261192,
     "user": {
      "displayName": "Narjes Noorzad",
      "photoUrl": "https://lh3.googleusercontent.com/a-/AOh14Gj7tkVNhkAPpQLlGPleUdGAeLotodizEcuFCkFIkA=s64",
      "userId": "16921968874120068723"
     },
     "user_tz": -210
    },
    "id": "XIpJOOZ7bkTY",
    "outputId": "614e92bd-3c35-4b75-f7ec-0fc390e75a31"
   },
   "outputs": [
    {
     "data": {
      "image/png": "[encoded data removed]",
      "text/plain": [
       "<Figure size 360x360 with 2 Axes>"
      ]
     },
     "metadata": {
      "needs_background": "light",
      "tags": []
     },
     "output_type": "display_data"
    }
   ],
   "source": [
    "confusion_matrix = make_confusion_matrix(test_labels[:,0], predicted)\n",
    "plot_confusion_matrix(confusion_matrix, ['1', '2', '3'], title = 'Confusion Matrix \\n without sklearn')"
   ]
  },
  {
   "cell_type": "markdown",
   "metadata": {
    "id": "Q0SVMhNDbk9e"
   },
   "source": [
    "#### Confusion Matrix - sklearn"
   ]
  },
  {
   "cell_type": "code",
   "execution_count": null,
   "metadata": {
    "colab": {
     "base_uri": "https://localhost:8080/",
     "height": 313
    },
    "executionInfo": {
     "elapsed": 2548,
     "status": "ok",
     "timestamp": 1608663261193,
     "user": {
      "displayName": "Narjes Noorzad",
      "photoUrl": "https://lh3.googleusercontent.com/a-/AOh14Gj7tkVNhkAPpQLlGPleUdGAeLotodizEcuFCkFIkA=s64",
      "userId": "16921968874120068723"
     },
     "user_tz": -210
    },
    "id": "wiiHFvyFamv-",
    "outputId": "5ada770e-32c5-4f6e-8114-f4b0f39f265e"
   },
   "outputs": [
    {
     "data": {
      "image/png": "[encoded data removed]",
      "text/plain": [
       "<Figure size 360x360 with 2 Axes>"
      ]
     },
     "metadata": {
      "needs_background": "light",
      "tags": []
     },
     "output_type": "display_data"
    }
   ],
   "source": [
    "confusion_matrix = make_confusion_matrix(test_labels[:,0], predicted_sk)\n",
    "plot_confusion_matrix(confusion_matrix, ['1', '2', '3'], title = 'Confusion Matrix \\n with sklearn')"
   ]
  },
  {
   "cell_type": "markdown",
   "metadata": {
    "id": "FU6pdhmjb7wQ"
   },
   "source": [
    "\n",
    "\n",
    "---\n",
    "\n"
   ]
  }
 ],
 "metadata": {
  "colab": {
   "authorship_tag": "ABX9TyPU6vfrCvPC5qLchtNzF7j4",
   "collapsed_sections": [],
   "name": "HW4_Q1.ipynb",
   "provenance": []
  },
  "kernelspec": {
   "display_name": "Python 3",
   "language": "python",
   "name": "python3"
  },
  "language_info": {
   "codemirror_mode": {
    "name": "ipython",
    "version": 3
   },
   "file_extension": ".py",
   "mimetype": "text/x-python",
   "name": "python",
   "nbconvert_exporter": "python",
   "pygments_lexer": "ipython3",
   "version": "3.8.3"
  }
 },
 "nbformat": 4,
 "nbformat_minor": 1
}
