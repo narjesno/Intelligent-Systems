{
 "cells": [
  {
   "cell_type": "code",
   "execution_count": 1,
   "metadata": {
    "colab": {
     "base_uri": "https://localhost:8080/"
    },
    "id": "k_gedwTqeTKt",
    "outputId": "0d2ada0c-ddd8-43fd-bbc5-4cc79289bebc"
   },
   "outputs": [
    {
     "name": "stdout",
     "output_type": "stream",
     "text": [
      "Drive already mounted at /content/drive; to attempt to forcibly remount, call drive.mount(\"/content/drive\", force_remount=True).\n"
     ]
    }
   ],
   "source": [
    "from google.colab import drive\n",
    "drive.mount('/content/drive')"
   ]
  },
  {
   "cell_type": "code",
   "execution_count": 2,
   "metadata": {
    "colab": {
     "base_uri": "https://localhost:8080/"
    },
    "id": "3ya-NiZBedQn",
    "outputId": "069b2fca-e64e-481a-ac0b-b09638c39766"
   },
   "outputs": [
    {
     "name": "stdout",
     "output_type": "stream",
     "text": [
      "/content/drive\n",
      "/content/drive/My Drive\n",
      "/content/drive/My Drive/IS projects\n",
      "/content/drive/My Drive/IS projects/Homework4\n"
     ]
    }
   ],
   "source": [
    "%cd drive\n",
    "%cd 'My Drive'\n",
    "%cd 'IS projects'\n",
    "%cd Homework4\n"
   ]
  },
  {
   "cell_type": "code",
   "execution_count": 3,
   "metadata": {
    "id": "7bZ8kebHfDWI"
   },
   "outputs": [],
   "source": [
    "import pandas as pd\n",
    "import numpy as np\n",
    "import random\n",
    "from collections import Counter\n",
    "import matplotlib.pyplot as plt\n",
    "import matplotlib\n",
    "from tabulate import tabulate\n",
    "import itertools\n",
    "\n",
    "TRAIN_SIZE = 0.8\n",
    "LABEL = 10\n",
    "UNIQUE_FEATURE = 10\n",
    "HIGH_INCOME = 1\n",
    "LOW_INCOME = 0"
   ]
  },
  {
   "cell_type": "markdown",
   "metadata": {
    "id": "7Xmau4w7lO1X"
   },
   "source": [
    "#### Read data and clean it (omid missing attributs)"
   ]
  },
  {
   "cell_type": "code",
   "execution_count": 4,
   "metadata": {
    "id": "3z-uotAXfFx5"
   },
   "outputs": [],
   "source": [
    "def read_data(filename): \n",
    "  data = pd.read_csv(filename)\n",
    "  data = data.loc[data['occupation'].str.contains(r'[?]') == False]\n",
    "  cleaned_data = data.loc[data['native-country'].str.contains(r'[?]') == False]\n",
    "  return cleaned_data.to_numpy()"
   ]
  },
  {
   "cell_type": "markdown",
   "metadata": {
    "id": "qUc8EmgYWsiy"
   },
   "source": [
    "#### Spliting data -  80%/20% "
   ]
  },
  {
   "cell_type": "code",
   "execution_count": 5,
   "metadata": {
    "id": "L9LUW7K4BN-L"
   },
   "outputs": [],
   "source": [
    "def split_data(data):\n",
    "  train_data_size = int(np.floor(data.shape[0]*TRAIN_SIZE))\n",
    "  indexes = random.sample(range(0, data.shape[0]), train_data_size)\n",
    "  indexes.sort()\n",
    "\n",
    "  train = data[indexes]\n",
    "  train_data, train_label = train[:, :], train[:, LABEL]\n",
    "  listed_data = data.tolist()\n",
    "  for i in range(train_data_size): listed_data.pop(indexes[i] - i)\n",
    "  test = np.array(listed_data)\n",
    "  test_data, test_label = test[:, :], test[:, LABEL]\n",
    "  return train_data, test_data, train_label, test_label"
   ]
  },
  {
   "cell_type": "markdown",
   "metadata": {
    "id": "OaC83YxmjKz-"
   },
   "source": [
    "### Extracting unique features of each attribute"
   ]
  },
  {
   "cell_type": "code",
   "execution_count": 6,
   "metadata": {
    "id": "0_Aa-gn0-RIF"
   },
   "outputs": [],
   "source": [
    "def unique_feature_extractor(train_data):\n",
    "  unique_feature = []\n",
    "  for i in range(train_data.shape[1]):\n",
    "      unique_attribute = np.unique(train_data[:, i])\n",
    "      unique_feature.append(unique_attribute)\n",
    "  return unique_feature"
   ]
  },
  {
   "cell_type": "markdown",
   "metadata": {
    "id": "Jgm8Lv0QjTo3"
   },
   "source": [
    "### Fill feature dictionary (# of low incomes and high incomes)"
   ]
  },
  {
   "cell_type": "code",
   "execution_count": 7,
   "metadata": {
    "id": "RIItPaIc4tH4"
   },
   "outputs": [],
   "source": [
    "def fill_feature_dict(train_data, feature, feature_dict):\n",
    "  for row_wise_data in train_data:\n",
    "    if row_wise_data[-1] == unique_feature[-1][LOW_INCOME]: feature_dict[feature][row_wise_data[feature]][LOW_INCOME] += 1\n",
    "    else: feature_dict[feature][row_wise_data[feature]][HIGH_INCOME] += 1\n",
    "  return feature_dict"
   ]
  },
  {
   "cell_type": "markdown",
   "metadata": {
    "id": "D41UwUEvj1EI"
   },
   "source": [
    "### Predect whether each data belongs to low income category or high income category"
   ]
  },
  {
   "cell_type": "code",
   "execution_count": 8,
   "metadata": {
    "id": "kG_daUpQicCy"
   },
   "outputs": [],
   "source": [
    "def predict_income(feature_dict, test_data):\n",
    "    low_income_population = feature_dict[-1][unique_feature[-1][LOW_INCOME]][LOW_INCOME]\n",
    "    high_income_population  = feature_dict[-1][unique_feature[-1][HIGH_INCOME]][HIGH_INCOME]\n",
    "    population = low_income_population + high_income_population + UNIQUE_FEATURE\n",
    "    predicted_income = []\n",
    "\n",
    "    for row_wise_data in test_data:\n",
    "        low_income_probability = feature_dict[-1][unique_feature[-1][LOW_INCOME]][LOW_INCOME] / population\n",
    "        high_income_probability = feature_dict[-1][unique_feature[-1][HIGH_INCOME]][HIGH_INCOME] / population\n",
    "        for feature in range(1, len(row_wise_data)):\n",
    "            low_income_probability *=  (feature_dict[feature][row_wise_data[feature]][LOW_INCOME] + 1)\n",
    "            high_income_probability *=  (feature_dict[feature][row_wise_data[feature]][HIGH_INCOME] + 1)\n",
    "\n",
    "        if low_income_probability > high_income_probability :  predicted_income.append(unique_feature[-1][LOW_INCOME])\n",
    "        else: predicted_income.append(unique_feature[-1][HIGH_INCOME])\n",
    "    return predicted_income"
   ]
  },
  {
   "cell_type": "markdown",
   "metadata": {
    "id": "lf9bXA51W-fa"
   },
   "source": [
    "#### Confusion Matrix "
   ]
  },
  {
   "cell_type": "code",
   "execution_count": 9,
   "metadata": {
    "id": "uVJxhGa8W99w"
   },
   "outputs": [],
   "source": [
    "def make_confusion_matrix(test_labels, predicted_labels):\n",
    "  class_labels = np.unique(test_labels)  \n",
    "  return np.array([[np.sum((test_labels == class_labels[i]) & (predicted_labels == class_labels[j])) for j in range(len(class_labels))] for i in  range(len(class_labels))]) "
   ]
  },
  {
   "cell_type": "code",
   "execution_count": 10,
   "metadata": {
    "id": "hci7hc_djzDT"
   },
   "outputs": [],
   "source": [
    "def plot_confusion_matrix(matrix, classes, normalize=False, title='Confusion matrix', cmap = plt.cm.gist_yarg):\n",
    "    plt.figure(figsize = (5,5))\n",
    "    plt.imshow(matrix, interpolation = 'nearest', cmap = cmap)\n",
    "    plt.title(title, fontsize = 10, fontweight = 'bold')\n",
    "    plt.colorbar()\n",
    "    tick_marks = np.arange(len(classes))\n",
    "    plt.xticks(tick_marks, classes)\n",
    "    plt.yticks(tick_marks, classes)\n",
    "    thresh = matrix.max() / 2.\n",
    "    for i, j in itertools.product(range(matrix.shape[0]), range(matrix.shape[1])):\n",
    "        plt.text(j, i, matrix[i, j], ha='center', va='center', color='white' if matrix[i,j]>thresh else 'grey')\n",
    "    plt.ylabel('True Labels', fontsize = 10, fontweight = 'bold')\n",
    "    plt.xlabel('Predicted Lables', fontsize = 10, fontweight = 'bold')\n",
    "    plt.show()"
   ]
  },
  {
   "cell_type": "code",
   "execution_count": 16,
   "metadata": {
    "id": "sFOeC5ypfY6T"
   },
   "outputs": [],
   "source": [
    "data = read_data('income_Q5.csv')\n",
    "np.random.shuffle(data)\n",
    "train_data, test_data, train_label, test_label = split_data(data)"
   ]
  },
  {
   "cell_type": "code",
   "execution_count": 17,
   "metadata": {
    "id": "-vn_NK0MkT65"
   },
   "outputs": [],
   "source": [
    "unique_feature = unique_feature_extractor(train_data)\n",
    "feature_dict = [{f:[0, 0] for f in unique_feature[u]} for u in range(len(train_data[0]))]\n",
    "for feature in range(len(train_data[0])): feature_dict = fill_feature_dict(train_data, feature, feature_dict)"
   ]
  },
  {
   "cell_type": "code",
   "execution_count": 18,
   "metadata": {
    "id": "5mBxdUq9ivdd"
   },
   "outputs": [],
   "source": [
    "predicted_income = predict_income(feature_dict, test_data)"
   ]
  },
  {
   "cell_type": "code",
   "execution_count": 19,
   "metadata": {
    "colab": {
     "base_uri": "https://localhost:8080/"
    },
    "id": "trgoKd6vjsV0",
    "outputId": "9e4ea418-4491-401b-8999-81ac8c13c887"
   },
   "outputs": [
    {
     "name": "stdout",
     "output_type": "stream",
     "text": [
      "Accuracy of clasification using Naive Bayes with laplace smoothing is: % 90.32\n"
     ]
    }
   ],
   "source": [
    "print('Accuracy of clasification using Naive Bayes with laplace smoothing is: %% %1.2f' %((test_data.T[-1] == predicted_income).mean()*100))"
   ]
  },
  {
   "cell_type": "code",
   "execution_count": 38,
   "metadata": {
    "colab": {
     "base_uri": "https://localhost:8080/",
     "height": 309
    },
    "id": "nekOwvzS2YNE",
    "outputId": "745ceef8-00a1-407f-ceb6-a979dad9a8c0"
   },
   "outputs": [
    {
     "data": {
      "image/png": "[encoded data removed]",
      "text/plain": [
       "<Figure size 360x360 with 2 Axes>"
      ]
     },
     "metadata": {
      "needs_background": "light",
      "tags": []
     },
     "output_type": "display_data"
    }
   ],
   "source": [
    "confusion_matrix = make_confusion_matrix(test_label, predicted_income)\n",
    "plot_confusion_matrix(confusion_matrix, ['>50K', '<=50K'], title = 'Confusion Matrix')"
   ]
  },
  {
   "cell_type": "code",
   "execution_count": 40,
   "metadata": {
    "id": "2UgZ7bal3Fba"
   },
   "outputs": [],
   "source": [
    "# confusion_matrix = np.zeros((2,2), int)\n",
    "# for i in range(len(predicted_income)):\n",
    "#     if predicted_income[i] == '>50K' and test_label[i] == '>50K': confusion_matrix[0, 0] += 1\n",
    "#     elif predicted_income[i] == '>50K' and test_label[i] =='<=50K': confusion_matrix[0, 1] += 1\n",
    "#     elif predicted_income[i] == '<=50K' and test_label[i] == '>50K': confusion_matrix[1, 0] += 1\n",
    "#     elif predicted_income[i] == '<=50K' and test_label[i] == '<=50K': confusion_matrix[1, 1] += 1"
   ]
  }
 ],
 "metadata": {
  "colab": {
   "collapsed_sections": [],
   "name": "HW4_Q5.ipynb",
   "provenance": []
  },
  "kernelspec": {
   "display_name": "Python 3",
   "language": "python",
   "name": "python3"
  },
  "language_info": {
   "codemirror_mode": {
    "name": "ipython",
    "version": 3
   },
   "file_extension": ".py",
   "mimetype": "text/x-python",
   "name": "python",
   "nbconvert_exporter": "python",
   "pygments_lexer": "ipython3",
   "version": "3.8.3"
  }
 },
 "nbformat": 4,
 "nbformat_minor": 1
}
