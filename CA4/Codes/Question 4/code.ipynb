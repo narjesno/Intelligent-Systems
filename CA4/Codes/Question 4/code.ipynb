{
 "cells": [
  {
   "cell_type": "code",
   "execution_count": 86,
   "metadata": {
    "colab": {
     "base_uri": "https://localhost:8080/"
    },
    "executionInfo": {
     "elapsed": 1326,
     "status": "ok",
     "timestamp": 1608930816670,
     "user": {
      "displayName": "Narjes Noorzad",
      "photoUrl": "https://lh3.googleusercontent.com/a-/AOh14Gj7tkVNhkAPpQLlGPleUdGAeLotodizEcuFCkFIkA=s64",
      "userId": "16921968874120068723"
     },
     "user_tz": -210
    },
    "id": "eg5gI6vJ18gw",
    "outputId": "ac8b3dc1-b14b-4551-b957-d9fb58a8bbac"
   },
   "outputs": [
    {
     "name": "stdout",
     "output_type": "stream",
     "text": [
      "Drive already mounted at /content/drive; to attempt to forcibly remount, call drive.mount(\"/content/drive\", force_remount=True).\n"
     ]
    }
   ],
   "source": [
    "from google.colab import drive\n",
    "drive.mount('/content/drive')"
   ]
  },
  {
   "cell_type": "code",
   "execution_count": 87,
   "metadata": {
    "colab": {
     "base_uri": "https://localhost:8080/"
    },
    "executionInfo": {
     "elapsed": 1352,
     "status": "ok",
     "timestamp": 1608930817784,
     "user": {
      "displayName": "Narjes Noorzad",
      "photoUrl": "https://lh3.googleusercontent.com/a-/AOh14Gj7tkVNhkAPpQLlGPleUdGAeLotodizEcuFCkFIkA=s64",
      "userId": "16921968874120068723"
     },
     "user_tz": -210
    },
    "id": "OTNdBoMi32Bd",
    "outputId": "586913bb-dfcd-41fc-ad9e-20c59c388fc2"
   },
   "outputs": [
    {
     "name": "stdout",
     "output_type": "stream",
     "text": [
      "[Errno 2] No such file or directory: 'drive'\n",
      "/content/drive/My Drive/IS projects/Homework4/Q4\n",
      "[Errno 2] No such file or directory: 'My Drive'\n",
      "/content/drive/My Drive/IS projects/Homework4/Q4\n",
      "[Errno 2] No such file or directory: 'IS projects'\n",
      "/content/drive/My Drive/IS projects/Homework4/Q4\n",
      "[Errno 2] No such file or directory: 'Homework4'\n",
      "/content/drive/My Drive/IS projects/Homework4/Q4\n",
      "[Errno 2] No such file or directory: 'Q4'\n",
      "/content/drive/My Drive/IS projects/Homework4/Q4\n"
     ]
    }
   ],
   "source": [
    "%cd drive\n",
    "%cd 'My Drive'\n",
    "%cd 'IS projects'\n",
    "%cd Homework4\n",
    "%cd Q4"
   ]
  },
  {
   "cell_type": "code",
   "execution_count": 115,
   "metadata": {
    "executionInfo": {
     "elapsed": 1203,
     "status": "ok",
     "timestamp": 1608931306884,
     "user": {
      "displayName": "Narjes Noorzad",
      "photoUrl": "https://lh3.googleusercontent.com/a-/AOh14Gj7tkVNhkAPpQLlGPleUdGAeLotodizEcuFCkFIkA=s64",
      "userId": "16921968874120068723"
     },
     "user_tz": -210
    },
    "id": "CFigRQoiTouI"
   },
   "outputs": [],
   "source": [
    "import pandas as pd\n",
    "import numpy as np\n",
    "from collections import Counter\n",
    "import matplotlib.pyplot as plt\n",
    "import matplotlib\n",
    "from tabulate import tabulate\n",
    "import itertools\n",
    "\n",
    "ALPHA = 0.1"
   ]
  },
  {
   "cell_type": "markdown",
   "metadata": {
    "id": "LWFEE20CdIEH"
   },
   "source": [
    "#### Reading the data "
   ]
  },
  {
   "cell_type": "code",
   "execution_count": 89,
   "metadata": {
    "executionInfo": {
     "elapsed": 1034,
     "status": "ok",
     "timestamp": 1608930823007,
     "user": {
      "displayName": "Narjes Noorzad",
      "photoUrl": "https://lh3.googleusercontent.com/a-/AOh14Gj7tkVNhkAPpQLlGPleUdGAeLotodizEcuFCkFIkA=s64",
      "userId": "16921968874120068723"
     },
     "user_tz": -210
    },
    "id": "4Ik82tYVT_vh"
   },
   "outputs": [],
   "source": [
    "def read_data(filename): return pd.read_csv(filename, index_col = None, header = None).to_numpy()"
   ]
  },
  {
   "cell_type": "markdown",
   "metadata": {
    "id": "H37XB0VEwkbW"
   },
   "source": [
    "#### Calculating gaussian probability"
   ]
  },
  {
   "cell_type": "code",
   "execution_count": 91,
   "metadata": {
    "executionInfo": {
     "elapsed": 1184,
     "status": "ok",
     "timestamp": 1608930826940,
     "user": {
      "displayName": "Narjes Noorzad",
      "photoUrl": "https://lh3.googleusercontent.com/a-/AOh14Gj7tkVNhkAPpQLlGPleUdGAeLotodizEcuFCkFIkA=s64",
      "userId": "16921968874120068723"
     },
     "user_tz": -210
    },
    "id": "nqE8d5gJIjta"
   },
   "outputs": [],
   "source": [
    "def gaussian_probability(x, mean, cov): return np.exp(-(x-mean)@(np.linalg.inv(cov))@((x-mean).T)/2)/np.sqrt(np.linalg.det(cov))"
   ]
  },
  {
   "cell_type": "code",
   "execution_count": 122,
   "metadata": {
    "executionInfo": {
     "elapsed": 1206,
     "status": "ok",
     "timestamp": 1608931692299,
     "user": {
      "displayName": "Narjes Noorzad",
      "photoUrl": "https://lh3.googleusercontent.com/a-/AOh14Gj7tkVNhkAPpQLlGPleUdGAeLotodizEcuFCkFIkA=s64",
      "userId": "16921968874120068723"
     },
     "user_tz": -210
    },
    "id": "wWC94HsuLebX"
   },
   "outputs": [],
   "source": [
    "def predict(test_data, mean, cov, prior_probability = np.ones((10,))):\n",
    "  predicted = np.zeros(test_data.shape[0])\n",
    "  for j in range(test_data.shape[0]):\n",
    "      likelihood = [gaussian_probability(test_data[j], mean[i], cov[i])*prior_probability[i] for i in range(len(mean))]\n",
    "      predicted[j] = np.argmax(likelihood)\n",
    "  return predicted"
   ]
  },
  {
   "cell_type": "code",
   "execution_count": 107,
   "metadata": {
    "executionInfo": {
     "elapsed": 1334,
     "status": "ok",
     "timestamp": 1608931188835,
     "user": {
      "displayName": "Narjes Noorzad",
      "photoUrl": "https://lh3.googleusercontent.com/a-/AOh14Gj7tkVNhkAPpQLlGPleUdGAeLotodizEcuFCkFIkA=s64",
      "userId": "16921968874120068723"
     },
     "user_tz": -210
    },
    "id": "j2DC4Qi9wC5q"
   },
   "outputs": [],
   "source": [
    "def calculate_accuracy(predicted_labels, test_labels): return (predicted_labels == test_labels).mean()"
   ]
  },
  {
   "cell_type": "code",
   "execution_count": 133,
   "metadata": {
    "executionInfo": {
     "elapsed": 1872,
     "status": "ok",
     "timestamp": 1608932024114,
     "user": {
      "displayName": "Narjes Noorzad",
      "photoUrl": "https://lh3.googleusercontent.com/a-/AOh14Gj7tkVNhkAPpQLlGPleUdGAeLotodizEcuFCkFIkA=s64",
      "userId": "16921968874120068723"
     },
     "user_tz": -210
    },
    "id": "gVbeyD_j4M16"
   },
   "outputs": [],
   "source": [
    "train_data = read_data('Train_Data.csv')\n",
    "test_data = read_data('Test_Data.csv')\n",
    "train_labels = read_data('Train_Labels.csv')\n",
    "test_labels = read_data('Test_Labels.csv')"
   ]
  },
  {
   "cell_type": "markdown",
   "metadata": {
    "id": "nJpqsIPUzwiD"
   },
   "source": [
    "\n",
    "---\n",
    "## Part 1.\n",
    "\n",
    "#### Without Prior Knowledge"
   ]
  },
  {
   "cell_type": "code",
   "execution_count": 134,
   "metadata": {
    "executionInfo": {
     "elapsed": 1285,
     "status": "ok",
     "timestamp": 1608932028957,
     "user": {
      "displayName": "Narjes Noorzad",
      "photoUrl": "https://lh3.googleusercontent.com/a-/AOh14Gj7tkVNhkAPpQLlGPleUdGAeLotodizEcuFCkFIkA=s64",
      "userId": "16921968874120068723"
     },
     "user_tz": -210
    },
    "id": "JfKprPfs4o8i"
   },
   "outputs": [],
   "source": [
    "number_classes = np.unique(train_labels).shape[0]\n",
    "\n",
    "#to prevent from overflowing\n",
    "train_data *= 0.01\n",
    "test_data *= 0.01\n",
    "\n",
    "means = [np.mean(train_data[train_labels.flatten() == i], axis = 0) for i in range(number_classes)]\n",
    "covariances = [np.cov(train_data[train_labels.flatten() == i].T) for i in range(number_classes)]\n",
    "\n",
    "if not np.linalg.det(covariances).any() :\n",
    "  covariances = [(1 - ALPHA) * covariances[i] + (ALPHA * np.trace(covariances[i]) * np.identity(len(covariances[i])))/number_classes for i in range(number_classes)]\n"
   ]
  },
  {
   "cell_type": "code",
   "execution_count": 135,
   "metadata": {
    "colab": {
     "base_uri": "https://localhost:8080/"
    },
    "executionInfo": {
     "elapsed": 75357,
     "status": "ok",
     "timestamp": 1608932105538,
     "user": {
      "displayName": "Narjes Noorzad",
      "photoUrl": "https://lh3.googleusercontent.com/a-/AOh14Gj7tkVNhkAPpQLlGPleUdGAeLotodizEcuFCkFIkA=s64",
      "userId": "16921968874120068723"
     },
     "user_tz": -210
    },
    "id": "i7i7tdIyNLFF",
    "outputId": "1136af09-728e-47b9-995a-6c053c96de0d"
   },
   "outputs": [
    {
     "name": "stdout",
     "output_type": "stream",
     "text": [
      "Accuracy of without Prior Knowledge is: % 78.57\n"
     ]
    }
   ],
   "source": [
    "predicted_labels = predict(test_data, means, covariances)\n",
    "print('Accuracy of without Prior Knowledge is: %% %1.2f' %(100*calculate_accuracy(predicted_labels, test_labels.flatten())))"
   ]
  },
  {
   "cell_type": "markdown",
   "metadata": {
    "id": "RMpn5S-4zq8e"
   },
   "source": [
    "\n",
    "---\n",
    "## Part 2.\n",
    "\n",
    "####Using Prior Knowledge"
   ]
  },
  {
   "cell_type": "code",
   "execution_count": 130,
   "metadata": {
    "colab": {
     "base_uri": "https://localhost:8080/"
    },
    "executionInfo": {
     "elapsed": 76172,
     "status": "ok",
     "timestamp": 1608931983906,
     "user": {
      "displayName": "Narjes Noorzad",
      "photoUrl": "https://lh3.googleusercontent.com/a-/AOh14Gj7tkVNhkAPpQLlGPleUdGAeLotodizEcuFCkFIkA=s64",
      "userId": "16921968874120068723"
     },
     "user_tz": -210
    },
    "id": "bb6Wq0-XyMLp",
    "outputId": "d72cc7d1-92af-4aa9-e189-2044a1337534"
   },
   "outputs": [
    {
     "name": "stdout",
     "output_type": "stream",
     "text": [
      "Accuracy of with Prior Knowledge is: % 78.57\n"
     ]
    }
   ],
   "source": [
    "prior_probability = np.array([train_labels[train_labels.flatten() == i].shape[0] for i in range(number_classes)])/train_labels.shape[0]\n",
    "prior_predicted_labels = predict(test_data, means, covariances, prior_probability)\n",
    "print('Accuracy of with Prior Knowledge is: %% %1.2f' %(100*calculate_accuracy(prior_predicted_labels, test_labels.flatten())))"
   ]
  },
  {
   "cell_type": "code",
   "execution_count": 137,
   "metadata": {
    "colab": {
     "base_uri": "https://localhost:8080/"
    },
    "executionInfo": {
     "elapsed": 1399,
     "status": "ok",
     "timestamp": 1608932138290,
     "user": {
      "displayName": "Narjes Noorzad",
      "photoUrl": "https://lh3.googleusercontent.com/a-/AOh14Gj7tkVNhkAPpQLlGPleUdGAeLotodizEcuFCkFIkA=s64",
      "userId": "16921968874120068723"
     },
     "user_tz": -210
    },
    "id": "2w9x8ZXz1AkS",
    "outputId": "6626fe82-8225-4f48-e4c8-bf33388e006e"
   },
   "outputs": [
    {
     "data": {
      "text/plain": [
       "array([0.0998, 0.1049, 0.1024, 0.0994, 0.0975, 0.0993, 0.0946, 0.1008,\n",
       "       0.1002, 0.1011])"
      ]
     },
     "execution_count": 137,
     "metadata": {
      "tags": []
     },
     "output_type": "execute_result"
    }
   ],
   "source": [
    "prior_probability"
   ]
  },
  {
   "cell_type": "markdown",
   "metadata": {
    "id": "6si5Ie2sWwxr"
   },
   "source": [
    "\n",
    "---\n",
    "## Part 3.\n",
    "\n",
    "#### Plotting Confusion Matrix"
   ]
  },
  {
   "cell_type": "code",
   "execution_count": 110,
   "metadata": {
    "executionInfo": {
     "elapsed": 1395,
     "status": "ok",
     "timestamp": 1608931259890,
     "user": {
      "displayName": "Narjes Noorzad",
      "photoUrl": "https://lh3.googleusercontent.com/a-/AOh14Gj7tkVNhkAPpQLlGPleUdGAeLotodizEcuFCkFIkA=s64",
      "userId": "16921968874120068723"
     },
     "user_tz": -210
    },
    "id": "uVJxhGa8W99w"
   },
   "outputs": [],
   "source": [
    "def make_confusion_matrix(test_labels, predicted_labels):\n",
    "  class_labels = np.unique(test_labels)  \n",
    "  return np.array([[np.sum((test_labels == class_labels[i]) & (predicted_labels == class_labels[j])) for j in range(len(class_labels))] for i in  range(len(class_labels))]) "
   ]
  },
  {
   "cell_type": "code",
   "execution_count": 113,
   "metadata": {
    "executionInfo": {
     "elapsed": 1305,
     "status": "ok",
     "timestamp": 1608931284369,
     "user": {
      "displayName": "Narjes Noorzad",
      "photoUrl": "https://lh3.googleusercontent.com/a-/AOh14Gj7tkVNhkAPpQLlGPleUdGAeLotodizEcuFCkFIkA=s64",
      "userId": "16921968874120068723"
     },
     "user_tz": -210
    },
    "id": "hci7hc_djzDT"
   },
   "outputs": [],
   "source": [
    "def plot_confusion_matrix(matrix, classes, normalize=False, title='Confusion matrix', cmap = plt.cm.gist_yarg):\n",
    "    plt.figure(figsize = (5,5))\n",
    "    plt.imshow(matrix, interpolation = 'nearest', cmap = cmap)\n",
    "    plt.title(title, fontsize = 10, fontweight = 'bold')\n",
    "    plt.colorbar()\n",
    "    tick_marks = np.arange(len(classes))\n",
    "    plt.xticks(tick_marks, classes)\n",
    "    plt.yticks(tick_marks, classes)\n",
    "    thresh = matrix.max() / 2.\n",
    "    for i, j in itertools.product(range(matrix.shape[0]), range(matrix.shape[1])):\n",
    "        plt.text(j, i, matrix[i, j], ha='center', va='center', color='white' if matrix[i,j]>thresh else 'grey')\n",
    "    plt.ylabel('True Labels', fontsize = 10, fontweight = 'bold')\n",
    "    plt.xlabel('Predicted Lables', fontsize = 10, fontweight = 'bold')\n",
    "    plt.show()"
   ]
  },
  {
   "cell_type": "markdown",
   "metadata": {
    "id": "KWbuK_bcbuge"
   },
   "source": [
    "#### Confusion Matrix "
   ]
  },
  {
   "cell_type": "code",
   "execution_count": 117,
   "metadata": {
    "colab": {
     "base_uri": "https://localhost:8080/",
     "height": 313
    },
    "executionInfo": {
     "elapsed": 1394,
     "status": "ok",
     "timestamp": 1608931336124,
     "user": {
      "displayName": "Narjes Noorzad",
      "photoUrl": "https://lh3.googleusercontent.com/a-/AOh14Gj7tkVNhkAPpQLlGPleUdGAeLotodizEcuFCkFIkA=s64",
      "userId": "16921968874120068723"
     },
     "user_tz": -210
    },
    "id": "XIpJOOZ7bkTY",
    "outputId": "eaf8ac18-bbdd-4e93-ddc3-a6aa8cd2ff96"
   },
   "outputs": [
    {
     "data": {
      "image/png": "[encoded data removed]",
      "text/plain": [
       "<Figure size 360x360 with 2 Axes>"
      ]
     },
     "metadata": {
      "needs_background": "light",
      "tags": []
     },
     "output_type": "display_data"
    }
   ],
   "source": [
    "#withosut prior\n",
    "confusion_matrix = make_confusion_matrix(test_labels.flatten(), predicted_labels)\n",
    "plot_confusion_matrix(confusion_matrix, ['1', '2', '3', '4', '5', '6', '7', '8', '9', '10'], title = 'Confusion Matrix \\n without Prior Knowledge')"
   ]
  },
  {
   "cell_type": "code",
   "execution_count": 138,
   "metadata": {
    "colab": {
     "base_uri": "https://localhost:8080/",
     "height": 313
    },
    "executionInfo": {
     "elapsed": 2276,
     "status": "ok",
     "timestamp": 1608932323829,
     "user": {
      "displayName": "Narjes Noorzad",
      "photoUrl": "https://lh3.googleusercontent.com/a-/AOh14Gj7tkVNhkAPpQLlGPleUdGAeLotodizEcuFCkFIkA=s64",
      "userId": "16921968874120068723"
     },
     "user_tz": -210
    },
    "id": "pXqT_ENA0c1G",
    "outputId": "71b3a2ec-19b4-420c-96d1-f667f4317507"
   },
   "outputs": [
    {
     "data": {
      "image/png": "[encoded data removed]",
      "text/plain": [
       "<Figure size 360x360 with 2 Axes>"
      ]
     },
     "metadata": {
      "needs_background": "light",
      "tags": []
     },
     "output_type": "display_data"
    }
   ],
   "source": [
    "#with prior\n",
    "confusion_matrix = make_confusion_matrix(test_labels.flatten(), prior_predicted_labels)\n",
    "plot_confusion_matrix(confusion_matrix, ['1', '2', '3', '4', '5', '6', '7', '8', '9', '10'], title = 'Confusion Matrix \\n with Prior Knowledge')"
   ]
  }
 ],
 "metadata": {
  "colab": {
   "authorship_tag": "ABX9TyO6GlXf+gPXr219hXebt35a",
   "collapsed_sections": [],
   "name": "HW4_Q4.ipynb",
   "provenance": []
  },
  "kernelspec": {
   "display_name": "Python 3",
   "language": "python",
   "name": "python3"
  },
  "language_info": {
   "codemirror_mode": {
    "name": "ipython",
    "version": 3
   },
   "file_extension": ".py",
   "mimetype": "text/x-python",
   "name": "python",
   "nbconvert_exporter": "python",
   "pygments_lexer": "ipython3",
   "version": "3.8.3"
  }
 },
 "nbformat": 4,
 "nbformat_minor": 1
}
