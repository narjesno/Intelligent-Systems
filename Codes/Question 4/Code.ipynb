{
 "cells": [
  {
   "cell_type": "markdown",
   "metadata": {},
   "source": [
    "# Question 4 - K Nearest Neighbours Algorithm"
   ]
  },
  {
   "cell_type": "code",
   "execution_count": 1,
   "metadata": {},
   "outputs": [],
   "source": [
    "import pandas as pd \n",
    "import numpy as np\n",
    "from math import sqrt\n",
    "import os\n",
    "from numpy import linalg\n",
    "from sklearn.neighbors import KNeighborsClassifier #just for testing\n",
    "from sklearn import * #just for testing"
   ]
  },
  {
   "cell_type": "code",
   "execution_count": 2,
   "metadata": {},
   "outputs": [],
   "source": [
    "TEST_LABELS = 0\n",
    "TEST_DATA = 1\n",
    "TRAIN_DATA = 2\n",
    "TRAIN_LABELS = 3"
   ]
  },
  {
   "cell_type": "markdown",
   "metadata": {},
   "source": [
    "#### Read Data"
   ]
  },
  {
   "cell_type": "code",
   "execution_count": 3,
   "metadata": {},
   "outputs": [],
   "source": [
    "def read_data(filename):\n",
    "    return pd.read_csv(filename, index_col = None, header = None).to_numpy()"
   ]
  },
  {
   "cell_type": "markdown",
   "metadata": {},
   "source": [
    " #### KNN Classifier"
   ]
  },
  {
   "cell_type": "code",
   "execution_count": 4,
   "metadata": {},
   "outputs": [],
   "source": [
    "def k_nearest_neighbors(train_data, train_label, test_data, k, distance_criteria):\n",
    "\n",
    "    train_data, test_data = train_data.astype(float), test_data.astype(float)\n",
    "\n",
    "    predicts = []\n",
    "    \n",
    "    for i in range(len(test_data)):\n",
    "\n",
    "        if distance_criteria == 'Manhattan':\n",
    "            distances = np.sum(np.abs(test_data[i] - train_data), axis = 1)\n",
    "        elif distance_criteria == 'Euclidean':\n",
    "            distances = np.linalg.norm(test_data[i] - train_data, axis = 1)\n",
    "        elif distance_criteria == 'Chebyshev':\n",
    "            distances = np.amax(np.abs(test_data[i] - train_data), axis = 1)\n",
    "\n",
    "        neighbors_index = np.argsort(distances)[0:k]\n",
    "        predicts.append(np.bincount(train_label[neighbors_index].flatten().astype(int)).argmax())\n",
    "    return predicts\n"
   ]
  },
  {
   "cell_type": "markdown",
   "metadata": {},
   "source": [
    "#### Normalization and Standardization"
   ]
  },
  {
   "cell_type": "code",
   "execution_count": 5,
   "metadata": {},
   "outputs": [],
   "source": [
    "def preprocessingscale(numparray): \n",
    "\n",
    "    scaled = (numparray - np.min(numparray))/(np.max(numparray)-np.min(numparray))\n",
    "    temp = scaled /  np.sqrt(np.var(scaled, dtype=np.float64))\n",
    "    sc = temp - np.mean(temp, dtype=np.float64)\n",
    "    return sc\n",
    "\n"
   ]
  },
  {
   "cell_type": "markdown",
   "metadata": {},
   "source": [
    "#### Accuracy"
   ]
  },
  {
   "cell_type": "code",
   "execution_count": 6,
   "metadata": {},
   "outputs": [],
   "source": [
    "def calculate_accuracy(predict, test):\n",
    "    return ((predict == test).mean())*100\n"
   ]
  },
  {
   "cell_type": "markdown",
   "metadata": {},
   "source": [
    "### Part1."
   ]
  },
  {
   "cell_type": "code",
   "execution_count": 7,
   "metadata": {},
   "outputs": [],
   "source": [
    "file_names = os.listdir('Question 4')\n",
    "\n",
    "train_data = read_data(file_names[TRAIN_DATA])\n",
    "train_labels = read_data(file_names[TRAIN_LABELS])\n",
    "test_data = read_data(file_names[TEST_DATA])\n",
    "test_labels = read_data(file_names[TEST_LABELS])"
   ]
  },
  {
   "cell_type": "code",
   "execution_count": 8,
   "metadata": {},
   "outputs": [],
   "source": [
    "\n",
    "k = [2, 5, 10, 50]\n",
    "distance_criteria = [ 'Euclidean', 'Chebyshev', 'Manhattan']\n"
   ]
  },
  {
   "cell_type": "code",
   "execution_count": 9,
   "metadata": {},
   "outputs": [],
   "source": [
    "#just for testing and nothing more :)\n",
    "train_data = preprocessing.scale(train_data)\n",
    "test_data = preprocessing.scale(test_data)\n",
    "# train_data= preprocessingscale(train_data)\n",
    "# test_data = preprocessingscale(test_data)\n"
   ]
  },
  {
   "cell_type": "code",
   "execution_count": 17,
   "metadata": {},
   "outputs": [
    {
     "output_type": "execute_result",
     "data": {
      "text/plain": [
       "74.857"
      ]
     },
     "metadata": {},
     "execution_count": 17
    }
   ],
   "source": [
    "#k = 2\n",
    "predictions_2_EC = k_nearest_neighbors(train_data, train_labels, test_data , k[0], distance_criteria[0])\n",
    "Accuracy_2_EC = round(calculate_accuracy(predictions_2_EC, test_labels.flatten()), 3)\n",
    "Accuracy_2_EC"
   ]
  },
  {
   "cell_type": "code",
   "execution_count": 11,
   "metadata": {},
   "outputs": [
    {
     "output_type": "execute_result",
     "data": {
      "text/plain": [
       "75.514"
      ]
     },
     "metadata": {},
     "execution_count": 11
    }
   ],
   "source": [
    "#k = 5\n",
    "predictions_5_EC = k_nearest_neighbors(train_data, train_labels, test_data , k[1], distance_criteria[0])\n",
    "Accuracy_5_EC = round(calculate_accuracy(predictions_5_EC, test_labels.flatten()), 3)\n",
    "Accuracy_5_EC"
   ]
  },
  {
   "cell_type": "code",
   "execution_count": 12,
   "metadata": {},
   "outputs": [
    {
     "output_type": "execute_result",
     "data": {
      "text/plain": [
       "74.143"
      ]
     },
     "metadata": {},
     "execution_count": 12
    }
   ],
   "source": [
    "#k = 10\n",
    "predictions_10_EC = k_nearest_neighbors(train_data, train_labels, test_data , k[2], distance_criteria[0])\n",
    "Accuracy_10_EC = round(calculate_accuracy(predictions_10_EC, test_labels.flatten()), 3)\n",
    "Accuracy_10_EC"
   ]
  },
  {
   "cell_type": "code",
   "execution_count": 13,
   "metadata": {},
   "outputs": [
    {
     "output_type": "execute_result",
     "data": {
      "text/plain": [
       "62.286"
      ]
     },
     "metadata": {},
     "execution_count": 13
    }
   ],
   "source": [
    "#k = 50\n",
    "predictions_50_EC = k_nearest_neighbors(train_data, train_labels, test_data, k[3], distance_criteria[0])\n",
    "Accuracy_50_EC = round(calculate_accuracy(predictions_50_EC, test_labels.flatten()), 3)\n",
    "Accuracy_50_EC"
   ]
  },
  {
   "cell_type": "markdown",
   "metadata": {},
   "source": [
    "#### Part3."
   ]
  },
  {
   "cell_type": "code",
   "execution_count": 14,
   "metadata": {},
   "outputs": [
    {
     "output_type": "execute_result",
     "data": {
      "text/plain": [
       "76.543"
      ]
     },
     "metadata": {},
     "execution_count": 14
    }
   ],
   "source": [
    "#k = 5(Best one)\n",
    "#Manhatan(Norm1)\n",
    "\n",
    "predictions_5_MD = k_nearest_neighbors(train_data, train_labels, test_data , k[1], distance_criteria[2])\n",
    "Accuracy_5_MD = round(calculate_accuracy(predictions_5_MD, test_labels.flatten()), 3)\n",
    "Accuracy_5_MD"
   ]
  },
  {
   "cell_type": "code",
   "execution_count": 15,
   "metadata": {},
   "outputs": [
    {
     "output_type": "execute_result",
     "data": {
      "text/plain": [
       "54.314"
      ]
     },
     "metadata": {},
     "execution_count": 15
    }
   ],
   "source": [
    "#k = 5(Best one)\n",
    "#Chebyshev\n",
    "\n",
    "predictions_5_CD = k_nearest_neighbors(train_data, train_labels, test_data , k[1], distance_criteria[1])\n",
    "Accuracy_5_CD = round(calculate_accuracy(predictions_5_CD, test_labels.flatten()), 3)\n",
    "Accuracy_5_CD"
   ]
  },
  {
   "cell_type": "code",
   "execution_count": 16,
   "metadata": {},
   "outputs": [
    {
     "output_type": "execute_result",
     "data": {
      "text/plain": [
       "0.7551428571428571"
      ]
     },
     "metadata": {},
     "execution_count": 16
    }
   ],
   "source": [
    "#just for testing and nothing more :)\n",
    "train_data = preprocessing.scale(train_data)\n",
    "test_data = preprocessing.scale(test_data)\n",
    "neigh = KNeighborsClassifier(n_neighbors=5).fit(train_data, train_labels)\n",
    "neigh.score(test_data, test_labels)"
   ]
  },
  {
   "cell_type": "code",
   "execution_count": null,
   "metadata": {},
   "outputs": [],
   "source": []
  }
 ],
 "metadata": {
  "kernelspec": {
   "display_name": "Python 3",
   "language": "python",
   "name": "python3"
  },
  "language_info": {
   "codemirror_mode": {
    "name": "ipython",
    "version": 3
   },
   "file_extension": ".py",
   "mimetype": "text/x-python",
   "name": "python",
   "nbconvert_exporter": "python",
   "pygments_lexer": "ipython3",
   "version": "3.8.3-final"
  }
 },
 "nbformat": 4,
 "nbformat_minor": 2
}