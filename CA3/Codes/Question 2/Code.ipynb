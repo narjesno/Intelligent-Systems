{
 "cells": [
  {
   "cell_type": "code",
   "execution_count": 1,
   "metadata": {
    "colab": {
     "base_uri": "https://localhost:8080/"
    },
    "id": "mb061dbPzwtd",
    "outputId": "37b44a07-9d6e-4004-a17b-351ffdfef0df"
   },
   "outputs": [
    {
     "name": "stdout",
     "output_type": "stream",
     "text": [
      "Mounted at /content/drive\n"
     ]
    }
   ],
   "source": [
    "from google.colab import drive\n",
    "drive.mount('/content/drive')"
   ]
  },
  {
   "cell_type": "code",
   "execution_count": 2,
   "metadata": {
    "colab": {
     "base_uri": "https://localhost:8080/"
    },
    "id": "EF5qchu92Vbv",
    "outputId": "438589bf-5fc8-4cb3-a209-a3bf1c858c30"
   },
   "outputs": [
    {
     "name": "stdout",
     "output_type": "stream",
     "text": [
      "/content/drive\n",
      "/content/drive/My Drive\n",
      "/content/drive/My Drive/IS projects\n",
      "/content/drive/My Drive/IS projects/Homework3\n",
      "/content/drive/My Drive/IS projects/Homework3/DataSet2\n"
     ]
    }
   ],
   "source": [
    "%cd drive\n",
    "%cd 'My Drive'\n",
    "%cd 'IS projects'\n",
    "%cd Homework3\n",
    "%cd DataSet2"
   ]
  },
  {
   "cell_type": "code",
   "execution_count": 3,
   "metadata": {
    "id": "u5iFN_vo2XWy"
   },
   "outputs": [],
   "source": [
    "import pandas as pd\n",
    "import random\n",
    "import numpy as np\n",
    "from matplotlib import pyplot as plt\n",
    "\n",
    "WEIGHT = 1\n",
    "BIAS = 0 \n",
    "ALPHA = 0.1\n",
    "DUMMY = 1e-1"
   ]
  },
  {
   "cell_type": "markdown",
   "metadata": {
    "id": "8XTGrvCJw3uV"
   },
   "source": [
    "#### Read data"
   ]
  },
  {
   "cell_type": "code",
   "execution_count": 4,
   "metadata": {
    "id": "NysBvWhe-5PQ"
   },
   "outputs": [],
   "source": [
    "def read_data(filename): return pd.read_csv(filename, index_col = None, header = None).to_numpy()"
   ]
  },
  {
   "cell_type": "markdown",
   "metadata": {
    "id": "JvJ10WvOw8hH"
   },
   "source": [
    "#### Normalize data"
   ]
  },
  {
   "cell_type": "code",
   "execution_count": 5,
   "metadata": {
    "id": "YZbbx_PN2rb3"
   },
   "outputs": [],
   "source": [
    "def rescale_data(data): return (data - np.min(data))/(np.max(data) - np.min(data))"
   ]
  },
  {
   "cell_type": "markdown",
   "metadata": {
    "id": "5hQpiMy9xAWZ"
   },
   "source": [
    "#### Reshape to 3D"
   ]
  },
  {
   "cell_type": "code",
   "execution_count": 6,
   "metadata": {
    "id": "rHvKevjb5Pt6"
   },
   "outputs": [],
   "source": [
    "def reshape_data(data): return data.reshape(data.shape[0], 1, data.shape[1])"
   ]
  },
  {
   "cell_type": "markdown",
   "metadata": {
    "id": "pzeLJQ76xEsM"
   },
   "source": [
    "#### One-Hot coding labels"
   ]
  },
  {
   "cell_type": "code",
   "execution_count": 7,
   "metadata": {
    "id": "7JOEiXiU5go5"
   },
   "outputs": [],
   "source": [
    "def to_categorical(data):\n",
    "  data = data.flatten()\n",
    "  coded_data = np.zeros((data.max()+1, data.size))\n",
    "  coded_data[data, np.arange(data.size)] = 1\n",
    "  return coded_data"
   ]
  },
  {
   "cell_type": "code",
   "execution_count": 8,
   "metadata": {
    "id": "DGYnDDP5soRw"
   },
   "outputs": [],
   "source": [
    "def preprocess(data):\n",
    "  rescaled = np.array([rescale_data(data[k]) for k in range(len(data))])\n",
    "  return reshape_data(rescaled)"
   ]
  },
  {
   "cell_type": "markdown",
   "metadata": {
    "id": "OgbpbJiqxKSi"
   },
   "source": [
    "#### ReLu activation function"
   ]
  },
  {
   "cell_type": "code",
   "execution_count": 9,
   "metadata": {
    "id": "U1IbAy3O__i7"
   },
   "outputs": [],
   "source": [
    "def relu(x): return np.maximum(0, x)\n",
    "def relu_prime(x): return 1*(x >= 0)"
   ]
  },
  {
   "cell_type": "markdown",
   "metadata": {
    "id": "xIUBE3RcxM92"
   },
   "source": [
    "#### tanh activation function"
   ]
  },
  {
   "cell_type": "code",
   "execution_count": null,
   "metadata": {
    "id": "ot5Ca5DCXC4R"
   },
   "outputs": [],
   "source": [
    "def tanh(x): return np.tanh(x)\n",
    "def tanh_prime(x) : return 1 - np.power(np.tanh(x), 2)"
   ]
  },
  {
   "cell_type": "markdown",
   "metadata": {
    "id": "mh0P-p7QxOwf"
   },
   "source": [
    "#### MSE as cost function"
   ]
  },
  {
   "cell_type": "code",
   "execution_count": 10,
   "metadata": {
    "id": "EfWG99YvXZKa"
   },
   "outputs": [],
   "source": [
    "def MSE_calculator(true_value, errored_value): return np.mean(np.power(true_value- errored_value, 2))\n",
    "def MSE_prime_calculator(true_value, errored_value): return 2*(errored_value - true_value)/true_value.size"
   ]
  },
  {
   "cell_type": "markdown",
   "metadata": {
    "id": "hH92fTAQxbnO"
   },
   "source": [
    "#### Calculating accuracy using argmax"
   ]
  },
  {
   "cell_type": "code",
   "execution_count": 11,
   "metadata": {
    "id": "m83WJfk4cvAZ"
   },
   "outputs": [],
   "source": [
    "def caculate_accuracy(network, datas, labels): return sum([np.argmax(label) == np.argmax(network.predict(data)) for data, label in zip(datas, labels)]) / (0.01*len(datas))"
   ]
  },
  {
   "cell_type": "markdown",
   "metadata": {
    "id": "NCSsOAfDxhqR"
   },
   "source": [
    "#### HiddenLayer class with weight and bias as attributes and forward and bakckward propagation methods"
   ]
  },
  {
   "cell_type": "code",
   "execution_count": 12,
   "metadata": {
    "id": "IrwM_BdaNSl3"
   },
   "outputs": [],
   "source": [
    "class HiddenLayer:\n",
    "  def __init__(self, input_size, output_size):\n",
    "    self.input = None\n",
    "    self.output = None\n",
    "    self.weights = np.random.rand(input_size, output_size)/ input_size\n",
    "    self.biases = np.random.rand(1, output_size) - 0.5\n",
    "\n",
    "  def update_parameters(self, errors):\n",
    "    self.weights, self.biases = self.weights  - ALPHA*errors[WEIGHT], self.biases  - ALPHA*errors[BIAS]\n",
    "  \n",
    "  def forward_propagation(self, input_data):\n",
    "    self.input = input_data\n",
    "    self.output = np.dot(self.input, self.weights) + self.biases\n",
    "    return self.output\n",
    "\n",
    "  def backward_propagation(self, output_error):\n",
    "    input_error, weights_error = np.dot(output_error, self.weights.T), np.dot(self.input.T, output_error)\n",
    "    self.update_parameters([output_error, weights_error])\n",
    "    return input_error"
   ]
  },
  {
   "cell_type": "markdown",
   "metadata": {
    "id": "AsevvqV9xxsg"
   },
   "source": [
    "#### ActivationFunction class with activation and derivitive of activation as attributes and forward and bakckward propagation methods"
   ]
  },
  {
   "cell_type": "code",
   "execution_count": 13,
   "metadata": {
    "id": "Ch8YA4d4nzvH"
   },
   "outputs": [],
   "source": [
    "class ActivationFunction:\n",
    "  def __init__(self, _activation, _activation_prime):\n",
    "    self.input = None\n",
    "    self.output = None\n",
    "    self.activation = _activation\n",
    "    self.activation_prime = _activation_prime\n",
    "\n",
    "  def forward_propagation(self, input_data):\n",
    "    self.input = input_data\n",
    "    self.output = self.activation(self.input)\n",
    "    return self.output\n",
    "\n",
    "  def backward_propagation(self, output_error): return self.activation_prime(self.input)*output_error\n",
    "    "
   ]
  },
  {
   "cell_type": "markdown",
   "metadata": {
    "id": "7J3PZsSPx6Zg"
   },
   "source": [
    "#### The main class - NeuralNerwork with loss and it's derivitive as attributes and train and predict as methods"
   ]
  },
  {
   "cell_type": "code",
   "execution_count": 14,
   "metadata": {
    "id": "r_gJPJvXNKWb"
   },
   "outputs": [],
   "source": [
    "class NeuralNerwork:\n",
    "    def __init__(self):\n",
    "        self.layers = []\n",
    "        self.loss = None\n",
    "        self.loss_prime = None\n",
    "\n",
    "    def add_layer(self, layer): self.layers.append(layer)\n",
    "\n",
    "    def set_loss_parameters(self, loss, loss_prime):\n",
    "        self.loss,  self.loss_prime = loss, loss_prime\n",
    "\n",
    "    def predict(self, input_data):\n",
    "      output = input_data\n",
    "      for layer in self.layers:\n",
    "        output = layer.forward_propagation(output)\n",
    "      return output\n",
    "\n",
    "    def loaded_predict(self, input_data, loaded_data):\n",
    "      layer[0].weights = loaded_data[0]\n",
    "      layer[2].weights = loaded_data[1]\n",
    "      output = input_data\n",
    "      for layer in self.layers:\n",
    "         output = layer.forward_propagation(output)\n",
    "      return output\n",
    "\n",
    "    def train(self, train_data, train_labels):\n",
    "        epochs = 50\n",
    "        accuracy_per_epoch, val_accuracy_per_epoch, error_per_epoch, val_error_per_epoch = [], [], [], []\n",
    "        for epoch in range(epochs):\n",
    "          error, val_error = 0, 0\n",
    "          for k in range(len(train_data)):\n",
    "            output = train_data[k]\n",
    "            for layer in self.layers:\n",
    "                output = layer.forward_propagation(output)\n",
    "            error += self.loss(train_labels[k], output)\n",
    "            #val_error +=self.loss(train_labels[k], output)\n",
    "            backward_error = self.loss_prime(train_labels[k], output)\n",
    "            for layer in reversed(self.layers):\n",
    "              backward_error = layer.backward_propagation(backward_error)\n",
    "          val_accuracy_per_epoch.append(caculate_accuracy(self, test_data, test_labels.T))\n",
    "          accuracy_per_epoch.append(caculate_accuracy(self, train_data, train_labels))\n",
    "          error_per_epoch.append(error/len(train_data))\n",
    "          val_error_per_epoch.append(DUMMY)\n",
    "          print('epoch %d/%d \\t error = %f \\t test accuracy = %f \\t  train accuracy = %f ' %(epoch+1, epochs, error/len(train_data), val_accuracy_per_epoch[-1],  accuracy_per_epoch[-1]))\n",
    "          accuracies = [val_accuracy_per_epoch, accuracy_per_epoch]\n",
    "          errors = [val_error_per_epoch, error_per_epoch]\n",
    "        return accuracies, errors"
   ]
  },
  {
   "cell_type": "markdown",
   "metadata": {
    "id": "2TPzvf_kyMfC"
   },
   "source": [
    "#### plot accuracy and loss"
   ]
  },
  {
   "cell_type": "code",
   "execution_count": 15,
   "metadata": {
    "id": "pCkHpjOyHZnI"
   },
   "outputs": [],
   "source": [
    "def plot_network_accuracy(history):\n",
    "  plt.plot(history[0][0],color = 'steelblue' )\n",
    "  plt.annotate('%' + str(round(history[0][0][-1],3)), xy=(len(history[0][0])-2, history[0][0][-1]), xytext=(len(history[0][0])-2, history[0][0][-1]), color = 'steelblue')\n",
    "  plt.plot(history[0][1], color = 'pink')\n",
    "  plt.annotate('%' + str(np.round(history[0][1][-1],3)), xy=(len(history[0][0])-2, history[0][1][-1]), xytext=(len(history[0][0])-2, history[0][1][-1]), color = 'pink' )\n",
    "  plt.title('Network Accuracy')\n",
    "  plt.ylabel('accuracy')\n",
    "  plt.xlabel('epoch')\n",
    "  plt.legend(['validation accuracy', 'train accuracy'], loc='upper left')\n",
    "  plt.show()\n",
    "\n",
    "  # plt.plot(history[1][0],color = 'lightskyblue' )\n",
    "  # plt.annotate( str(round(history[1][0][-1],3)), xy=(len(history[0][0])-2, history[1][0][-1]), xytext=(len(history[0][0])-2, history[1][0][-1]), color = 'steelblue')\n",
    "  # plt.plot(history[1][1], color = 'lightpink')\n",
    "  # plt.annotate( str(np.round(history[1][1][-1],3)), xy=(len(history[0][0])-2, history[1][1][-1]), xytext=(len(history[0][0])-2, history[1][1][-1]), color = 'pink' )\n",
    "  # plt.title('Network loss')\n",
    "  # plt.ylabel('loss')\n",
    "  # plt.xlabel('epoch')\n",
    "  # plt.legend(['validation loss', 'train loss'], loc='upper left')\n",
    "  # plt.show()"
   ]
  },
  {
   "cell_type": "markdown",
   "metadata": {
    "id": "SDA0E0VSyh_h"
   },
   "source": [
    "#### save weights"
   ]
  },
  {
   "cell_type": "code",
   "execution_count": null,
   "metadata": {
    "id": "FNxMBUgO4M8-"
   },
   "outputs": [],
   "source": [
    "def save_weight(path, neuralnet): np.savetxt(path, neuralnet.layers[0].weights)"
   ]
  },
  {
   "cell_type": "markdown",
   "metadata": {
    "id": "V1MnG0r_ylpv"
   },
   "source": [
    "#### load weights"
   ]
  },
  {
   "cell_type": "code",
   "execution_count": null,
   "metadata": {
    "id": "iZ2PHs9s5lv-"
   },
   "outputs": [],
   "source": [
    "def load_weight(path): return np.loadtxt(path)"
   ]
  },
  {
   "cell_type": "markdown",
   "metadata": {
    "id": "ChBk1G-kynU5"
   },
   "source": [
    "### read data from Dataset"
   ]
  },
  {
   "cell_type": "code",
   "execution_count": 16,
   "metadata": {
    "id": "hzhBvz50-5nL"
   },
   "outputs": [],
   "source": [
    "x_train = read_data('Reduced_Train_Data.csv')\n",
    "x_test = read_data('Reduced_Test_Data.csv')\n",
    "y_train = read_data('trainLabels.csv')\n",
    "y_test = read_data('testLabels.csv')"
   ]
  },
  {
   "cell_type": "code",
   "execution_count": 17,
   "metadata": {
    "id": "sQMqEAnHtEaD"
   },
   "outputs": [],
   "source": [
    "train_data = preprocess(x_train)\n",
    "test_data = preprocess(x_test)"
   ]
  },
  {
   "cell_type": "code",
   "execution_count": 18,
   "metadata": {
    "id": "AOD3uZLT85FW"
   },
   "outputs": [],
   "source": [
    "train_labels = to_categorical(y_train)\n",
    "test_labels = to_categorical(y_test)"
   ]
  },
  {
   "cell_type": "markdown",
   "metadata": {
    "id": "ZcGCQgFzy1Ik"
   },
   "source": [
    "#### Making a neural network with 150 hidden nodes and tanh as activation function"
   ]
  },
  {
   "cell_type": "code",
   "execution_count": null,
   "metadata": {
    "colab": {
     "base_uri": "https://localhost:8080/"
    },
    "id": "obA6e8G-9I8G",
    "outputId": "1fdd1d57-9e16-4604-e0fb-22b53cfe764f"
   },
   "outputs": [
    {
     "name": "stdout",
     "output_type": "stream",
     "text": [
      "epoch 1/50 \t error = 0.056588 \t test accuracy = 75.490000 \t  train accuracy = 76.375000 \n",
      "epoch 2/50 \t error = 0.045770 \t test accuracy = 78.410000 \t  train accuracy = 79.456667 \n",
      "epoch 3/50 \t error = 0.043719 \t test accuracy = 79.030000 \t  train accuracy = 79.908333 \n",
      "epoch 4/50 \t error = 0.042805 \t test accuracy = 79.150000 \t  train accuracy = 80.050000 \n",
      "epoch 5/50 \t error = 0.042276 \t test accuracy = 79.210000 \t  train accuracy = 80.120000 \n",
      "epoch 6/50 \t error = 0.041908 \t test accuracy = 79.210000 \t  train accuracy = 80.128333 \n",
      "epoch 7/50 \t error = 0.041621 \t test accuracy = 79.200000 \t  train accuracy = 80.176667 \n",
      "epoch 8/50 \t error = 0.041389 \t test accuracy = 79.230000 \t  train accuracy = 80.223333 \n",
      "epoch 9/50 \t error = 0.041195 \t test accuracy = 79.230000 \t  train accuracy = 80.271667 \n",
      "epoch 10/50 \t error = 0.040968 \t test accuracy = 79.150000 \t  train accuracy = 80.250000 \n",
      "epoch 11/50 \t error = 0.040678 \t test accuracy = 79.210000 \t  train accuracy = 80.253333 \n",
      "epoch 12/50 \t error = 0.040329 \t test accuracy = 79.470000 \t  train accuracy = 80.328333 \n",
      "epoch 13/50 \t error = 0.039835 \t test accuracy = 79.510000 \t  train accuracy = 80.405000 \n",
      "epoch 14/50 \t error = 0.039335 \t test accuracy = 79.430000 \t  train accuracy = 80.406667 \n",
      "epoch 15/50 \t error = 0.038949 \t test accuracy = 79.480000 \t  train accuracy = 80.510000 \n",
      "epoch 16/50 \t error = 0.038653 \t test accuracy = 79.700000 \t  train accuracy = 80.643333 \n",
      "epoch 17/50 \t error = 0.038406 \t test accuracy = 79.830000 \t  train accuracy = 80.713333 \n",
      "epoch 18/50 \t error = 0.038184 \t test accuracy = 79.820000 \t  train accuracy = 80.728333 \n",
      "epoch 19/50 \t error = 0.037977 \t test accuracy = 79.930000 \t  train accuracy = 80.793333 \n",
      "epoch 20/50 \t error = 0.037771 \t test accuracy = 80.050000 \t  train accuracy = 80.893333 \n",
      "epoch 21/50 \t error = 0.037553 \t test accuracy = 80.200000 \t  train accuracy = 81.046667 \n",
      "epoch 22/50 \t error = 0.037293 \t test accuracy = 80.260000 \t  train accuracy = 81.243333 \n",
      "epoch 23/50 \t error = 0.036962 \t test accuracy = 80.610000 \t  train accuracy = 81.426667 \n",
      "epoch 24/50 \t error = 0.036641 \t test accuracy = 80.700000 \t  train accuracy = 81.573333 \n",
      "epoch 25/50 \t error = 0.036334 \t test accuracy = 80.740000 \t  train accuracy = 81.683333 \n",
      "epoch 26/50 \t error = 0.036020 \t test accuracy = 80.870000 \t  train accuracy = 81.855000 \n",
      "epoch 27/50 \t error = 0.035699 \t test accuracy = 80.960000 \t  train accuracy = 81.965000 \n",
      "epoch 28/50 \t error = 0.035382 \t test accuracy = 81.050000 \t  train accuracy = 82.033333 \n",
      "epoch 29/50 \t error = 0.035074 \t test accuracy = 81.160000 \t  train accuracy = 82.086667 \n",
      "epoch 30/50 \t error = 0.034775 \t test accuracy = 81.240000 \t  train accuracy = 82.118333 \n",
      "epoch 31/50 \t error = 0.034479 \t test accuracy = 81.250000 \t  train accuracy = 82.170000 \n",
      "epoch 32/50 \t error = 0.034186 \t test accuracy = 81.270000 \t  train accuracy = 82.240000 \n",
      "epoch 33/50 \t error = 0.033905 \t test accuracy = 81.350000 \t  train accuracy = 82.290000 \n",
      "epoch 34/50 \t error = 0.033648 \t test accuracy = 81.300000 \t  train accuracy = 82.343333 \n",
      "epoch 35/50 \t error = 0.033415 \t test accuracy = 81.370000 \t  train accuracy = 82.381667 \n",
      "epoch 36/50 \t error = 0.033202 \t test accuracy = 81.350000 \t  train accuracy = 82.408333 \n",
      "epoch 37/50 \t error = 0.033005 \t test accuracy = 81.350000 \t  train accuracy = 82.460000 \n",
      "epoch 38/50 \t error = 0.032819 \t test accuracy = 81.370000 \t  train accuracy = 82.510000 \n",
      "epoch 39/50 \t error = 0.032641 \t test accuracy = 81.430000 \t  train accuracy = 82.571667 \n",
      "epoch 40/50 \t error = 0.032471 \t test accuracy = 81.490000 \t  train accuracy = 82.636667 \n",
      "epoch 41/50 \t error = 0.032307 \t test accuracy = 81.500000 \t  train accuracy = 82.681667 \n",
      "epoch 42/50 \t error = 0.032149 \t test accuracy = 81.500000 \t  train accuracy = 82.698333 \n",
      "epoch 43/50 \t error = 0.031997 \t test accuracy = 81.540000 \t  train accuracy = 82.726667 \n",
      "epoch 44/50 \t error = 0.031851 \t test accuracy = 81.610000 \t  train accuracy = 82.746667 \n",
      "epoch 45/50 \t error = 0.031710 \t test accuracy = 81.610000 \t  train accuracy = 82.798333 \n",
      "epoch 46/50 \t error = 0.031574 \t test accuracy = 81.670000 \t  train accuracy = 82.835000 \n",
      "epoch 47/50 \t error = 0.031443 \t test accuracy = 81.740000 \t  train accuracy = 82.886667 \n",
      "epoch 48/50 \t error = 0.031316 \t test accuracy = 81.800000 \t  train accuracy = 82.933333 \n",
      "epoch 49/50 \t error = 0.031193 \t test accuracy = 81.870000 \t  train accuracy = 82.956667 \n",
      "epoch 50/50 \t error = 0.031074 \t test accuracy = 81.900000 \t  train accuracy = 82.965000 \n"
     ]
    }
   ],
   "source": [
    "neuralnet = NeuralNerwork()\n",
    "neuralnet.add_layer(HiddenLayer(128, 150))                \n",
    "neuralnet.add_layer(ActivationFunction(tanh, tanh_prime))\n",
    "neuralnet.add_layer(HiddenLayer(150, 10))                    \n",
    "neuralnet.add_layer(ActivationFunction(tanh, tanh_prime))\n",
    "\n",
    "neuralnet.set_loss_parameters(MSE_calculator, MSE_prime_calculator)\n",
    "accuracies, errors = neuralnet.train(train_data, train_labels.T)"
   ]
  },
  {
   "cell_type": "code",
   "execution_count": null,
   "metadata": {
    "colab": {
     "base_uri": "https://localhost:8080/",
     "height": 330
    },
    "id": "cfH2nIbYAZzN",
    "outputId": "b4a4f2e7-3fe1-4357-dd3f-93e5b5c6bb73"
   },
   "outputs": [
    {
     "name": "stdout",
     "output_type": "stream",
     "text": [
      "Loss of Neural Network with 150 nodes in hidden layer and tanh as activation function for validation data is: 0.03\n",
      "Accuracy of Neural Network with 150 nodes in hidden layerand tanh as activation function for validation data is: % 81.90\n"
     ]
    },
    {
     "data": {
      "image/png": "[encoded data removed]",
      "text/plain": [
       "<Figure size 432x288 with 1 Axes>"
      ]
     },
     "metadata": {
      "needs_background": "light",
      "tags": []
     },
     "output_type": "display_data"
    }
   ],
   "source": [
    "print('Loss of Neural Network with 150 nodes in hidden layer and tanh as activation function for validation data is: %1.2f' %errors[1][-1])\n",
    "print('Accuracy of Neural Network with 150 nodes in hidden layerand tanh as activation function for validation data is: %% %1.2f' %accuracies[0][-1])\n",
    "plot_network_accuracy([accuracies, errors])"
   ]
  },
  {
   "cell_type": "markdown",
   "metadata": {
    "id": "zqrwVC_9NAuy"
   },
   "source": [
    "#### Making a neural network with 100 hidden nodes and tanh as activation function"
   ]
  },
  {
   "cell_type": "code",
   "execution_count": null,
   "metadata": {
    "colab": {
     "base_uri": "https://localhost:8080/"
    },
    "id": "5FR_kAKLNABb",
    "outputId": "8a8ca32b-b737-48dd-8140-98748fd7b6d5"
   },
   "outputs": [
    {
     "name": "stdout",
     "output_type": "stream",
     "text": [
      "epoch 1/50 \t error = 0.056620 \t test accuracy = 75.550000 \t  train accuracy = 76.341667 \n",
      "epoch 2/50 \t error = 0.045343 \t test accuracy = 78.430000 \t  train accuracy = 79.370000 \n",
      "epoch 3/50 \t error = 0.043456 \t test accuracy = 79.010000 \t  train accuracy = 79.873333 \n",
      "epoch 4/50 \t error = 0.042589 \t test accuracy = 79.240000 \t  train accuracy = 80.075000 \n",
      "epoch 5/50 \t error = 0.041968 \t test accuracy = 79.260000 \t  train accuracy = 80.098333 \n",
      "epoch 6/50 \t error = 0.041359 \t test accuracy = 79.270000 \t  train accuracy = 80.041667 \n",
      "epoch 7/50 \t error = 0.040722 \t test accuracy = 79.370000 \t  train accuracy = 80.141667 \n",
      "epoch 8/50 \t error = 0.040143 \t test accuracy = 79.410000 \t  train accuracy = 80.265000 \n",
      "epoch 9/50 \t error = 0.039662 \t test accuracy = 79.400000 \t  train accuracy = 80.353333 \n",
      "epoch 10/50 \t error = 0.039139 \t test accuracy = 79.620000 \t  train accuracy = 80.553333 \n",
      "epoch 11/50 \t error = 0.038318 \t test accuracy = 79.850000 \t  train accuracy = 80.796667 \n",
      "epoch 12/50 \t error = 0.037570 \t test accuracy = 79.960000 \t  train accuracy = 80.955000 \n",
      "epoch 13/50 \t error = 0.036949 \t test accuracy = 80.060000 \t  train accuracy = 81.040000 \n",
      "epoch 14/50 \t error = 0.036324 \t test accuracy = 80.250000 \t  train accuracy = 81.150000 \n",
      "epoch 15/50 \t error = 0.035644 \t test accuracy = 80.560000 \t  train accuracy = 81.376667 \n",
      "epoch 16/50 \t error = 0.035021 \t test accuracy = 80.640000 \t  train accuracy = 81.533333 \n",
      "epoch 17/50 \t error = 0.034506 \t test accuracy = 80.820000 \t  train accuracy = 81.655000 \n",
      "epoch 18/50 \t error = 0.034077 \t test accuracy = 80.980000 \t  train accuracy = 81.751667 \n",
      "epoch 19/50 \t error = 0.033709 \t test accuracy = 80.950000 \t  train accuracy = 81.828333 \n",
      "epoch 20/50 \t error = 0.033386 \t test accuracy = 80.960000 \t  train accuracy = 81.906667 \n",
      "epoch 21/50 \t error = 0.033102 \t test accuracy = 81.100000 \t  train accuracy = 81.978333 \n",
      "epoch 22/50 \t error = 0.032854 \t test accuracy = 81.130000 \t  train accuracy = 82.048333 \n",
      "epoch 23/50 \t error = 0.032635 \t test accuracy = 81.240000 \t  train accuracy = 82.133333 \n",
      "epoch 24/50 \t error = 0.032442 \t test accuracy = 81.410000 \t  train accuracy = 82.193333 \n",
      "epoch 25/50 \t error = 0.032270 \t test accuracy = 81.490000 \t  train accuracy = 82.236667 \n",
      "epoch 26/50 \t error = 0.032116 \t test accuracy = 81.550000 \t  train accuracy = 82.303333 \n",
      "epoch 27/50 \t error = 0.031977 \t test accuracy = 81.600000 \t  train accuracy = 82.366667 \n",
      "epoch 28/50 \t error = 0.031850 \t test accuracy = 81.670000 \t  train accuracy = 82.415000 \n",
      "epoch 29/50 \t error = 0.031735 \t test accuracy = 81.670000 \t  train accuracy = 82.471667 \n",
      "epoch 30/50 \t error = 0.031628 \t test accuracy = 81.680000 \t  train accuracy = 82.516667 \n",
      "epoch 31/50 \t error = 0.031529 \t test accuracy = 81.760000 \t  train accuracy = 82.588333 \n",
      "epoch 32/50 \t error = 0.031436 \t test accuracy = 81.780000 \t  train accuracy = 82.620000 \n",
      "epoch 33/50 \t error = 0.031344 \t test accuracy = 81.890000 \t  train accuracy = 82.686667 \n",
      "epoch 34/50 \t error = 0.031224 \t test accuracy = 81.940000 \t  train accuracy = 82.723333 \n",
      "epoch 35/50 \t error = 0.031020 \t test accuracy = 82.020000 \t  train accuracy = 82.758333 \n",
      "epoch 36/50 \t error = 0.030763 \t test accuracy = 82.000000 \t  train accuracy = 82.758333 \n",
      "epoch 37/50 \t error = 0.030522 \t test accuracy = 82.050000 \t  train accuracy = 82.831667 \n",
      "epoch 38/50 \t error = 0.030316 \t test accuracy = 81.990000 \t  train accuracy = 82.885000 \n",
      "epoch 39/50 \t error = 0.030140 \t test accuracy = 82.090000 \t  train accuracy = 82.936667 \n",
      "epoch 40/50 \t error = 0.029988 \t test accuracy = 82.070000 \t  train accuracy = 82.981667 \n",
      "epoch 41/50 \t error = 0.029856 \t test accuracy = 82.160000 \t  train accuracy = 83.045000 \n",
      "epoch 42/50 \t error = 0.029739 \t test accuracy = 82.190000 \t  train accuracy = 83.090000 \n",
      "epoch 43/50 \t error = 0.029635 \t test accuracy = 82.180000 \t  train accuracy = 83.146667 \n",
      "epoch 44/50 \t error = 0.029541 \t test accuracy = 82.210000 \t  train accuracy = 83.190000 \n",
      "epoch 45/50 \t error = 0.029454 \t test accuracy = 82.250000 \t  train accuracy = 83.240000 \n",
      "epoch 46/50 \t error = 0.029374 \t test accuracy = 82.380000 \t  train accuracy = 83.275000 \n",
      "epoch 47/50 \t error = 0.029300 \t test accuracy = 82.430000 \t  train accuracy = 83.298333 \n",
      "epoch 48/50 \t error = 0.029229 \t test accuracy = 82.450000 \t  train accuracy = 83.365000 \n",
      "epoch 49/50 \t error = 0.029162 \t test accuracy = 82.500000 \t  train accuracy = 83.395000 \n",
      "epoch 50/50 \t error = 0.029098 \t test accuracy = 82.550000 \t  train accuracy = 83.456667 \n"
     ]
    }
   ],
   "source": [
    "neuralnet_100 = NeuralNerwork()\n",
    "neuralnet_100.add_layer(HiddenLayer(128, 100))                \n",
    "neuralnet_100.add_layer(ActivationFunction(tanh, tanh_prime))\n",
    "neuralnet_100.add_layer(HiddenLayer(100, 10))                    \n",
    "neuralnet_100.add_layer(ActivationFunction(tanh, tanh_prime))\n",
    "\n",
    "neuralnet_100.set_loss_parameters(MSE_calculator, MSE_prime_calculator)\n",
    "accuracies_100, errors_100 = neuralnet_100.train(train_data, train_labels.T)"
   ]
  },
  {
   "cell_type": "code",
   "execution_count": null,
   "metadata": {
    "colab": {
     "base_uri": "https://localhost:8080/",
     "height": 330
    },
    "id": "j6rx4tnRipvX",
    "outputId": "26a4c8af-e41c-4a32-f2b1-2b83017c3a18"
   },
   "outputs": [
    {
     "name": "stdout",
     "output_type": "stream",
     "text": [
      "Loss of Neural Network with 100 nodes in hidden layer and tanh as activation functionfor validation data is: 0.03\n",
      "Accuracy of Neural Network with 100 nodes in hidden layer and tanh as activation function for validation data is: % 82.55\n"
     ]
    },
    {
     "data": {
      "image/png": "[encoded data removed]",
      "text/plain": [
       "<Figure size 432x288 with 1 Axes>"
      ]
     },
     "metadata": {
      "needs_background": "light",
      "tags": []
     },
     "output_type": "display_data"
    }
   ],
   "source": [
    "print('Loss of Neural Network with 100 nodes in hidden layer and tanh as activation functionfor validation data is: %1.2f' %errors_100[1][-1])\n",
    "print('Accuracy of Neural Network with 100 nodes in hidden layer and tanh as activation function for validation data is: %% %1.2f' %accuracies_100[0][-1])\n",
    "plot_network_accuracy([accuracies_100, errors_100])"
   ]
  },
  {
   "cell_type": "markdown",
   "metadata": {
    "id": "TU__j8JCNnOL"
   },
   "source": [
    "#### Making a neural network with 300 hidden nodes and tanh as activation function"
   ]
  },
  {
   "cell_type": "code",
   "execution_count": null,
   "metadata": {
    "colab": {
     "base_uri": "https://localhost:8080/"
    },
    "id": "5r4-GYL6Nmwn",
    "outputId": "3bb33258-2bf5-4b84-b57f-280e0c4622f0"
   },
   "outputs": [
    {
     "name": "stdout",
     "output_type": "stream",
     "text": [
      "epoch 1/50 \t error = 0.056469 \t test accuracy = 75.660000 \t  train accuracy = 76.505000 \n",
      "epoch 2/50 \t error = 0.045683 \t test accuracy = 78.310000 \t  train accuracy = 79.445000 \n",
      "epoch 3/50 \t error = 0.044052 \t test accuracy = 78.960000 \t  train accuracy = 79.816667 \n",
      "epoch 4/50 \t error = 0.043354 \t test accuracy = 79.140000 \t  train accuracy = 80.003333 \n",
      "epoch 5/50 \t error = 0.042954 \t test accuracy = 79.260000 \t  train accuracy = 80.055000 \n",
      "epoch 6/50 \t error = 0.042691 \t test accuracy = 79.310000 \t  train accuracy = 80.116667 \n",
      "epoch 7/50 \t error = 0.042503 \t test accuracy = 79.400000 \t  train accuracy = 80.150000 \n",
      "epoch 8/50 \t error = 0.042345 \t test accuracy = 79.370000 \t  train accuracy = 80.170000 \n",
      "epoch 9/50 \t error = 0.041930 \t test accuracy = 79.330000 \t  train accuracy = 80.183333 \n",
      "epoch 10/50 \t error = 0.041656 \t test accuracy = 79.280000 \t  train accuracy = 80.228333 \n",
      "epoch 11/50 \t error = 0.041476 \t test accuracy = 79.330000 \t  train accuracy = 80.261667 \n",
      "epoch 12/50 \t error = 0.041336 \t test accuracy = 79.440000 \t  train accuracy = 80.283333 \n",
      "epoch 13/50 \t error = 0.041221 \t test accuracy = 79.480000 \t  train accuracy = 80.291667 \n",
      "epoch 14/50 \t error = 0.041119 \t test accuracy = 79.510000 \t  train accuracy = 80.330000 \n",
      "epoch 15/50 \t error = 0.041012 \t test accuracy = 79.470000 \t  train accuracy = 80.350000 \n",
      "epoch 16/50 \t error = 0.040889 \t test accuracy = 79.530000 \t  train accuracy = 80.370000 \n",
      "epoch 17/50 \t error = 0.040757 \t test accuracy = 79.590000 \t  train accuracy = 80.391667 \n",
      "epoch 18/50 \t error = 0.040616 \t test accuracy = 79.620000 \t  train accuracy = 80.413333 \n",
      "epoch 19/50 \t error = 0.040456 \t test accuracy = 79.590000 \t  train accuracy = 80.413333 \n",
      "epoch 20/50 \t error = 0.040261 \t test accuracy = 79.690000 \t  train accuracy = 80.371667 \n",
      "epoch 21/50 \t error = 0.040025 \t test accuracy = 79.640000 \t  train accuracy = 80.365000 \n",
      "epoch 22/50 \t error = 0.039817 \t test accuracy = 79.610000 \t  train accuracy = 80.398333 \n",
      "epoch 23/50 \t error = 0.039647 \t test accuracy = 79.530000 \t  train accuracy = 80.410000 \n",
      "epoch 24/50 \t error = 0.039499 \t test accuracy = 79.510000 \t  train accuracy = 80.435000 \n",
      "epoch 25/50 \t error = 0.039364 \t test accuracy = 79.490000 \t  train accuracy = 80.448333 \n",
      "epoch 26/50 \t error = 0.039235 \t test accuracy = 79.570000 \t  train accuracy = 80.548333 \n",
      "epoch 27/50 \t error = 0.039102 \t test accuracy = 79.760000 \t  train accuracy = 80.648333 \n",
      "epoch 28/50 \t error = 0.038953 \t test accuracy = 79.830000 \t  train accuracy = 80.736667 \n",
      "epoch 29/50 \t error = 0.038786 \t test accuracy = 79.920000 \t  train accuracy = 80.856667 \n",
      "epoch 30/50 \t error = 0.038605 \t test accuracy = 80.050000 \t  train accuracy = 80.893333 \n",
      "epoch 31/50 \t error = 0.038423 \t test accuracy = 80.150000 \t  train accuracy = 80.936667 \n",
      "epoch 32/50 \t error = 0.038236 \t test accuracy = 80.090000 \t  train accuracy = 80.941667 \n",
      "epoch 33/50 \t error = 0.037950 \t test accuracy = 80.000000 \t  train accuracy = 80.916667 \n",
      "epoch 34/50 \t error = 0.037446 \t test accuracy = 80.190000 \t  train accuracy = 80.910000 \n",
      "epoch 35/50 \t error = 0.036807 \t test accuracy = 80.170000 \t  train accuracy = 80.975000 \n",
      "epoch 36/50 \t error = 0.036157 \t test accuracy = 80.070000 \t  train accuracy = 80.990000 \n",
      "epoch 37/50 \t error = 0.035634 \t test accuracy = 80.230000 \t  train accuracy = 81.073333 \n",
      "epoch 38/50 \t error = 0.035256 \t test accuracy = 80.220000 \t  train accuracy = 81.180000 \n",
      "epoch 39/50 \t error = 0.034978 \t test accuracy = 80.200000 \t  train accuracy = 81.263333 \n",
      "epoch 40/50 \t error = 0.034761 \t test accuracy = 80.300000 \t  train accuracy = 81.323333 \n",
      "epoch 41/50 \t error = 0.034583 \t test accuracy = 80.330000 \t  train accuracy = 81.363333 \n",
      "epoch 42/50 \t error = 0.034430 \t test accuracy = 80.380000 \t  train accuracy = 81.440000 \n",
      "epoch 43/50 \t error = 0.034291 \t test accuracy = 80.380000 \t  train accuracy = 81.435000 \n",
      "epoch 44/50 \t error = 0.034162 \t test accuracy = 80.370000 \t  train accuracy = 81.460000 \n",
      "epoch 45/50 \t error = 0.034035 \t test accuracy = 80.370000 \t  train accuracy = 81.520000 \n",
      "epoch 46/50 \t error = 0.033907 \t test accuracy = 80.480000 \t  train accuracy = 81.535000 \n",
      "epoch 47/50 \t error = 0.033773 \t test accuracy = 80.490000 \t  train accuracy = 81.550000 \n",
      "epoch 48/50 \t error = 0.033636 \t test accuracy = 80.560000 \t  train accuracy = 81.596667 \n",
      "epoch 49/50 \t error = 0.033504 \t test accuracy = 80.630000 \t  train accuracy = 81.638333 \n",
      "epoch 50/50 \t error = 0.033379 \t test accuracy = 80.680000 \t  train accuracy = 81.680000 \n"
     ]
    }
   ],
   "source": [
    "neuralnet_300 = NeuralNerwork()\n",
    "neuralnet_300.add_layer(HiddenLayer(128, 300))                \n",
    "neuralnet_300.add_layer(ActivationFunction(tanh, tanh_prime))\n",
    "neuralnet_300.add_layer(HiddenLayer(300, 10))                    \n",
    "neuralnet_300.add_layer(ActivationFunction(tanh, tanh_prime))\n",
    "\n",
    "neuralnet_300.set_loss_parameters(MSE_calculator, MSE_prime_calculator)\n",
    "accuracies_300, errors_300 = neuralnet_300.train(train_data, train_labels.T)"
   ]
  },
  {
   "cell_type": "code",
   "execution_count": null,
   "metadata": {
    "colab": {
     "base_uri": "https://localhost:8080/",
     "height": 330
    },
    "id": "m3CALAF4Oeb4",
    "outputId": "58c1f85d-0415-4535-b4fa-2c3264a601c1"
   },
   "outputs": [
    {
     "name": "stdout",
     "output_type": "stream",
     "text": [
      "Loss of Neural Network with 300 nodes in hidden layer and tanh as activation function for validation data is: 0.03\n",
      "Accuracy of Neural Network with 300 nodes in hidden layer and tanh as activation function for validation data is: % 80.68\n"
     ]
    },
    {
     "data": {
      "image/png": "[encoded data removed]",
      "text/plain": [
       "<Figure size 432x288 with 1 Axes>"
      ]
     },
     "metadata": {
      "needs_background": "light",
      "tags": []
     },
     "output_type": "display_data"
    }
   ],
   "source": [
    "print('Loss of Neural Network with 300 nodes in hidden layer and tanh as activation function for validation data is: %1.2f' %errors_300[1][-1])\n",
    "print('Accuracy of Neural Network with 300 nodes in hidden layer and tanh as activation function for validation data is: %% %1.2f' %accuracies_300[0][-1])\n",
    "plot_network_accuracy([accuracies_300, errors_300])"
   ]
  },
  {
   "cell_type": "markdown",
   "metadata": {
    "id": "iweIeYPhO6TZ"
   },
   "source": [
    "#### Making a neural network with 150 hidden nodes and ReLu as activation function"
   ]
  },
  {
   "cell_type": "code",
   "execution_count": 24,
   "metadata": {
    "colab": {
     "base_uri": "https://localhost:8080/"
    },
    "id": "sB_3j-f7Tjf8",
    "outputId": "e358ecfa-145e-4b78-dd14-1b502166ccf0"
   },
   "outputs": [
    {
     "name": "stdout",
     "output_type": "stream",
     "text": [
      "epoch 1/50 \t error = 0.049378 \t test accuracy = 75.700000 \t  train accuracy = 76.271667 \n",
      "epoch 2/50 \t error = 0.037032 \t test accuracy = 77.290000 \t  train accuracy = 78.043333 \n",
      "epoch 3/50 \t error = 0.034741 \t test accuracy = 77.700000 \t  train accuracy = 78.485000 \n",
      "epoch 4/50 \t error = 0.033515 \t test accuracy = 78.070000 \t  train accuracy = 78.703333 \n",
      "epoch 5/50 \t error = 0.032561 \t test accuracy = 78.310000 \t  train accuracy = 78.971667 \n",
      "epoch 6/50 \t error = 0.031857 \t test accuracy = 78.570000 \t  train accuracy = 79.325000 \n",
      "epoch 7/50 \t error = 0.031291 \t test accuracy = 78.720000 \t  train accuracy = 79.443333 \n",
      "epoch 8/50 \t error = 0.030716 \t test accuracy = 78.850000 \t  train accuracy = 79.753333 \n",
      "epoch 9/50 \t error = 0.030159 \t test accuracy = 79.050000 \t  train accuracy = 79.910000 \n",
      "epoch 10/50 \t error = 0.029826 \t test accuracy = 79.060000 \t  train accuracy = 79.980000 \n",
      "epoch 11/50 \t error = 0.029537 \t test accuracy = 79.180000 \t  train accuracy = 80.043333 \n",
      "epoch 12/50 \t error = 0.029188 \t test accuracy = 79.460000 \t  train accuracy = 80.555000 \n",
      "epoch 13/50 \t error = 0.028918 \t test accuracy = 79.180000 \t  train accuracy = 80.243333 \n",
      "epoch 14/50 \t error = 0.028697 \t test accuracy = 79.420000 \t  train accuracy = 80.478333 \n",
      "epoch 15/50 \t error = 0.028535 \t test accuracy = 79.620000 \t  train accuracy = 80.653333 \n",
      "epoch 16/50 \t error = 0.028529 \t test accuracy = 79.650000 \t  train accuracy = 80.725000 \n",
      "epoch 17/50 \t error = 0.028328 \t test accuracy = 79.450000 \t  train accuracy = 80.525000 \n",
      "epoch 18/50 \t error = 0.028114 \t test accuracy = 79.440000 \t  train accuracy = 80.470000 \n",
      "epoch 19/50 \t error = 0.027974 \t test accuracy = 79.540000 \t  train accuracy = 80.593333 \n",
      "epoch 20/50 \t error = 0.027850 \t test accuracy = 79.790000 \t  train accuracy = 80.843333 \n",
      "epoch 21/50 \t error = 0.027673 \t test accuracy = 79.480000 \t  train accuracy = 80.601667 \n",
      "epoch 22/50 \t error = 0.027533 \t test accuracy = 79.560000 \t  train accuracy = 80.801667 \n",
      "epoch 23/50 \t error = 0.027421 \t test accuracy = 79.620000 \t  train accuracy = 80.871667 \n",
      "epoch 24/50 \t error = 0.027286 \t test accuracy = 79.760000 \t  train accuracy = 81.100000 \n",
      "epoch 25/50 \t error = 0.027178 \t test accuracy = 79.750000 \t  train accuracy = 81.035000 \n",
      "epoch 26/50 \t error = 0.027037 \t test accuracy = 79.700000 \t  train accuracy = 81.003333 \n",
      "epoch 27/50 \t error = 0.026949 \t test accuracy = 79.990000 \t  train accuracy = 81.196667 \n",
      "epoch 28/50 \t error = 0.026898 \t test accuracy = 79.860000 \t  train accuracy = 81.133333 \n",
      "epoch 29/50 \t error = 0.026766 \t test accuracy = 80.230000 \t  train accuracy = 81.555000 \n",
      "epoch 30/50 \t error = 0.026713 \t test accuracy = 79.930000 \t  train accuracy = 81.333333 \n",
      "epoch 31/50 \t error = 0.026636 \t test accuracy = 80.020000 \t  train accuracy = 81.323333 \n",
      "epoch 32/50 \t error = 0.026464 \t test accuracy = 79.830000 \t  train accuracy = 81.171667 \n",
      "epoch 33/50 \t error = 0.026458 \t test accuracy = 80.020000 \t  train accuracy = 81.476667 \n",
      "epoch 34/50 \t error = 0.026359 \t test accuracy = 80.080000 \t  train accuracy = 81.440000 \n",
      "epoch 35/50 \t error = 0.026265 \t test accuracy = 80.520000 \t  train accuracy = 81.760000 \n",
      "epoch 36/50 \t error = 0.026259 \t test accuracy = 80.400000 \t  train accuracy = 81.718333 \n",
      "epoch 37/50 \t error = 0.026176 \t test accuracy = 80.160000 \t  train accuracy = 81.396667 \n",
      "epoch 38/50 \t error = 0.026096 \t test accuracy = 80.250000 \t  train accuracy = 81.541667 \n",
      "epoch 39/50 \t error = 0.026034 \t test accuracy = 80.300000 \t  train accuracy = 81.696667 \n",
      "epoch 40/50 \t error = 0.025960 \t test accuracy = 80.130000 \t  train accuracy = 81.590000 \n",
      "epoch 41/50 \t error = 0.025922 \t test accuracy = 80.330000 \t  train accuracy = 81.728333 \n",
      "epoch 42/50 \t error = 0.025877 \t test accuracy = 80.690000 \t  train accuracy = 81.805000 \n",
      "epoch 43/50 \t error = 0.025837 \t test accuracy = 80.590000 \t  train accuracy = 82.008333 \n",
      "epoch 44/50 \t error = 0.025765 \t test accuracy = 80.370000 \t  train accuracy = 81.711667 \n",
      "epoch 45/50 \t error = 0.025756 \t test accuracy = 80.630000 \t  train accuracy = 81.796667 \n",
      "epoch 46/50 \t error = 0.025679 \t test accuracy = 80.670000 \t  train accuracy = 81.836667 \n",
      "epoch 47/50 \t error = 0.025648 \t test accuracy = 80.810000 \t  train accuracy = 82.028333 \n",
      "epoch 48/50 \t error = 0.025590 \t test accuracy = 80.800000 \t  train accuracy = 82.093333 \n",
      "epoch 49/50 \t error = 0.025547 \t test accuracy = 80.890000 \t  train accuracy = 82.068333 \n",
      "epoch 50/50 \t error = 0.025456 \t test accuracy = 80.750000 \t  train accuracy = 81.941667 \n"
     ]
    }
   ],
   "source": [
    "ALPHA = 0.1\n",
    "neuralnet_relu = NeuralNerwork()\n",
    "neuralnet_relu.add_layer(HiddenLayer(128, 150))                \n",
    "neuralnet_relu.add_layer(ActivationFunction(relu, relu_prime))\n",
    "neuralnet_relu.add_layer(HiddenLayer(150, 10))                    \n",
    "neuralnet_relu.add_layer(ActivationFunction(relu, relu_prime))\n",
    "\n",
    "neuralnet_relu.set_loss_parameters(MSE_calculator, MSE_prime_calculator)\n",
    "accuracies_relu, errors_relu = neuralnet_relu.train(train_data, train_labels.T)"
   ]
  },
  {
   "cell_type": "code",
   "execution_count": 25,
   "metadata": {
    "colab": {
     "base_uri": "https://localhost:8080/",
     "height": 329
    },
    "id": "X2xbAKrEO24o",
    "outputId": "73f508e2-0b74-41e7-c76e-f0eaf7739d99"
   },
   "outputs": [
    {
     "name": "stdout",
     "output_type": "stream",
     "text": [
      "Loss of Neural Network with 150 nodes in hidden layer and tanh as activation function for validation data is: 0.03\n",
      "Accuracy of Neural Network with 150 nodes in hidden layer and tanh as activation function for validation data is: % 80.75\n"
     ]
    },
    {
     "data": {
      "image/png": "[encoded data removed]",
      "text/plain": [
       "<Figure size 432x288 with 1 Axes>"
      ]
     },
     "metadata": {
      "needs_background": "light",
      "tags": []
     },
     "output_type": "display_data"
    }
   ],
   "source": [
    "print('Loss of Neural Network with 150 nodes in hidden layer and tanh as activation function for validation data is: %1.2f' %errors_relu[1][-1])\n",
    "print('Accuracy of Neural Network with 150 nodes in hidden layer and tanh as activation function for validation data is: %% %1.2f' %accuracies_relu[0][-1])\n",
    "plot_network_accuracy([accuracies_relu, errors_relu])"
   ]
  },
  {
   "cell_type": "code",
   "execution_count": null,
   "metadata": {
    "id": "UhRLucNb7UTp"
   },
   "outputs": [],
   "source": [
    "save_weight(\"HiddenLayer1_Weights.txt\", neuralnet)\n",
    "save_weight(\"HiddenLayer2_Weights.txt\", neuralnet)\n",
    "\n",
    "save_weight(\"HiddenLayer1_100_Weights.txt\", neuralnet_100)\n",
    "save_weight(\"HiddenLayer2_100_Weights.txt\", neuralnet_100)\n",
    "\n",
    "save_weight(\"HiddenLayer1_300_Weights.txt\", neuralnet_300)\n",
    "save_weight(\"HiddenLayer2_300_Weights.txt\", neuralnet_300)\n",
    "\n",
    "save_weight(\"HiddenLayer1_relu_Weights.txt\", neuralnet_relu)\n",
    "save_weight(\"HiddenLayer2_relu_Weights.txt\", neuralnet_relu)"
   ]
  },
  {
   "cell_type": "code",
   "execution_count": null,
   "metadata": {
    "id": "Ivd0S7IN6H0a"
   },
   "outputs": [],
   "source": [
    "weights1 = load_weight(\"HiddenLayer1_Weights.txt\")\n",
    "weights2 = load_weight(\"HiddenLayer2_Weights.txt\")\n",
    "\n",
    "# weights1 = load_weight(\"HiddenLayer1_100_Weights.txt\")\n",
    "# weights2 = load_weight(\"HiddenLayer2_100_Weights.txt\")\n",
    "\n",
    "# weights1 = load_weight(\"HiddenLayer1_300_Weights.txt\")\n",
    "# weights2 = load_weight(\"HiddenLayer2_300_Weights.txt\")\n",
    "\n",
    "# weights1 = load_weight(\"HiddenLayer1_relu_Weights.txt\")\n",
    "# weights2 = load_weight(\"HiddenLayer2_relu_Weights.txt\")"
   ]
  },
  {
   "cell_type": "code",
   "execution_count": null,
   "metadata": {
    "id": "DWhhOj169yN6"
   },
   "outputs": [],
   "source": [
    "nnet = NeuralNerwork()\n",
    "nnet.add_layer(HiddenLayer(128, 150))                \n",
    "nnet.add_layer(ActivationFunction(tanh, tanh_prime))\n",
    "nnet.add_layer(HiddenLayer(150, 10))                    \n",
    "nnet.add_layer(ActivationFunction(tanh, tanh_prime))\n",
    "\n",
    "nnet.set_loss_parameters(MSE_calculator, MSE_prime_calculator)\n",
    "#predicted = nnet.loaded_predict(test_data, [weights1, weights2])"
   ]
  }
 ],
 "metadata": {
  "colab": {
   "collapsed_sections": [],
   "name": "HW3_Question2.ipynb",
   "provenance": []
  },
  "kernelspec": {
   "display_name": "Python 3",
   "language": "python",
   "name": "python3"
  },
  "language_info": {
   "codemirror_mode": {
    "name": "ipython",
    "version": 3
   },
   "file_extension": ".py",
   "mimetype": "text/x-python",
   "name": "python",
   "nbconvert_exporter": "python",
   "pygments_lexer": "ipython3",
   "version": "3.8.3"
  }
 },
 "nbformat": 4,
 "nbformat_minor": 1
}
